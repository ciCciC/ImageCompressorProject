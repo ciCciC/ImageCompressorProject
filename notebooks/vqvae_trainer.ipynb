{
 "cells": [
  {
   "cell_type": "markdown",
   "source": [
    "# Vector Quantized Variational Autoencoder (VQVAE) for compression and decompression of images\n",
    "\n",
    "The goal is faster retrieval, comparison and memory efficiency"
   ],
   "metadata": {
    "collapsed": false
   }
  },
  {
   "cell_type": "code",
   "execution_count": 1,
   "metadata": {
    "collapsed": true,
    "ExecuteTime": {
     "end_time": "2023-11-04T19:17:48.831463400Z",
     "start_time": "2023-11-04T19:17:39.946653200Z"
    }
   },
   "outputs": [],
   "source": [
    "from keras import layers, Input, Model, Sequential\n",
    "from keras.datasets import cifar10\n",
    "from keras.optimizers import Adam\n",
    "from keras.metrics import Mean, MAE\n",
    "from keras.models import load_model\n",
    "import numpy as np\n",
    "import matplotlib.pyplot as plt\n",
    "import tensorflow as tf\n",
    "import pandas as pd\n",
    "import glob"
   ]
  },
  {
   "cell_type": "code",
   "execution_count": 2,
   "outputs": [
    {
     "data": {
      "text/plain": "[PhysicalDevice(name='/physical_device:CPU:0', device_type='CPU'),\n PhysicalDevice(name='/physical_device:GPU:0', device_type='GPU')]"
     },
     "execution_count": 2,
     "metadata": {},
     "output_type": "execute_result"
    }
   ],
   "source": [
    "tf.config.get_visible_devices()"
   ],
   "metadata": {
    "collapsed": false,
    "ExecuteTime": {
     "end_time": "2023-11-04T19:19:42.502441600Z",
     "start_time": "2023-11-04T19:19:40.614698600Z"
    }
   }
  },
  {
   "cell_type": "code",
   "execution_count": 3,
   "outputs": [],
   "source": [
    "class VectorQuantizer(layers.Layer):\n",
    "    def __init__(self, num_embeddings, embedding_dim, beta=0.25, **kwargs):\n",
    "        super().__init__(**kwargs)\n",
    "        self.embedding_dim = embedding_dim\n",
    "        self.num_embeddings = num_embeddings\n",
    "        self.beta = beta\n",
    "\n",
    "        # Initialize the embeddings to quantize.\n",
    "        w_init = tf.random_uniform_initializer()\n",
    "        self.embeddings = tf.Variable(\n",
    "            initial_value=w_init(\n",
    "                shape=(self.embedding_dim, self.num_embeddings), dtype=\"float32\"\n",
    "            ),\n",
    "            trainable=True,\n",
    "            name=\"embeddings_vqvae\",\n",
    "        )\n",
    "\n",
    "    def call(self, x):\n",
    "        # Calculate the input shape of the inputs and\n",
    "        # then flatten the inputs keeping `embedding_dim` intact.\n",
    "        input_shape = tf.shape(x)\n",
    "        flattened = tf.reshape(x, [-1, self.embedding_dim])\n",
    "\n",
    "        # Quantization.\n",
    "        encoding_indices = self.get_code_indices(flattened)\n",
    "        encodings = tf.one_hot(encoding_indices, self.num_embeddings)\n",
    "        quantized = tf.matmul(encodings, self.embeddings, transpose_b=True)\n",
    "\n",
    "        # Reshape the quantized values back to the original input shape\n",
    "        quantized = tf.reshape(quantized, input_shape)\n",
    "\n",
    "        # Calculates the vector quantization loss and add that to the layer\n",
    "        commitment_loss = tf.reduce_mean((tf.stop_gradient(quantized) - x) ** 2)\n",
    "        codebook_loss = tf.reduce_mean((quantized - tf.stop_gradient(x)) ** 2)\n",
    "        #  Add the calculation to the layer\n",
    "        self.add_loss(self.beta * commitment_loss + codebook_loss)\n",
    "\n",
    "        # Straight-through estimator.\n",
    "        quantized = x + tf.stop_gradient(quantized - x)\n",
    "        return quantized\n",
    "\n",
    "    def get_code_indices(self, flattened_inputs):\n",
    "        # Calculate L2-normalized distance between the inputs and the codes.\n",
    "        similarity = tf.matmul(flattened_inputs, self.embeddings)\n",
    "        distances = (\n",
    "            tf.reduce_sum(flattened_inputs ** 2, axis=1, keepdims=True)\n",
    "            + tf.reduce_sum(self.embeddings ** 2, axis=0)\n",
    "            - 2 * similarity\n",
    "        )\n",
    "\n",
    "        # Derive the indices for minimum distances.\n",
    "        encoding_indices = tf.argmin(distances, axis=1)\n",
    "        return encoding_indices\n",
    "\n",
    "    def get_config(self):\n",
    "        return {\n",
    "            'num_embeddings': self.num_embeddings,\n",
    "            'embedding_dim': self.embedding_dim,\n",
    "            'beta': self.beta\n",
    "        }\n",
    "\n",
    "    @classmethod\n",
    "    def from_config(cls, config):\n",
    "        return cls(**config)"
   ],
   "metadata": {
    "collapsed": false,
    "ExecuteTime": {
     "end_time": "2023-11-04T19:19:46.507667400Z",
     "start_time": "2023-11-04T19:19:46.485596300Z"
    }
   }
  },
  {
   "cell_type": "code",
   "execution_count": 5,
   "outputs": [],
   "source": [
    "def get_model_encoder(latent_dim, input_shape):\n",
    "    block_encoder = Sequential([\n",
    "    Input(shape=input_shape),\n",
    "    layers.Conv2D(filters=32, kernel_size=3, activation=\"relu\", strides=2, padding=\"same\"),\n",
    "    tf.keras.layers.BatchNormalization(),\n",
    "    layers.Conv2D(filters=64, kernel_size=3, activation=\"relu\", strides=2, padding=\"same\"),\n",
    "    tf.keras.layers.BatchNormalization(),\n",
    "    layers.Conv2D(latent_dim, 3, padding=\"same\", name=f'le{latent_dim}')],\n",
    "        name='block_encoder')\n",
    "\n",
    "    return Model(block_encoder.inputs, block_encoder.outputs, name='model_encoder')\n",
    "\n",
    "\n",
    "def get_model_decoder(model_encoder_out_shape):\n",
    "    block_decoder = Sequential([\n",
    "        Input(shape=model_encoder_out_shape),\n",
    "        layers.Conv2DTranspose(filters=64, kernel_size=3, activation=\"relu\", strides=2, padding=\"same\"),\n",
    "        tf.keras.layers.BatchNormalization(),\n",
    "        layers.Conv2DTranspose(filters=32, kernel_size=3, activation=\"relu\", strides=2, padding=\"same\"),\n",
    "        tf.keras.layers.BatchNormalization(),\n",
    "        layers.Conv2DTranspose(filters=3, kernel_size=3, padding=\"same\")\n",
    "    ], name='block_decoder')\n",
    "\n",
    "    return Model(block_decoder.inputs, block_decoder.outputs, name='model_decoder')"
   ],
   "metadata": {
    "collapsed": false,
    "ExecuteTime": {
     "end_time": "2023-11-04T19:19:48.625394100Z",
     "start_time": "2023-11-04T19:19:48.598256600Z"
    }
   }
  },
  {
   "cell_type": "code",
   "execution_count": 7,
   "outputs": [],
   "source": [
    "def get_vqvae(shape, latent_dim, num_embeddings, model_encoder, model_decoder):\n",
    "    vq_layer = VectorQuantizer(num_embeddings, latent_dim, name=\"vector_quantizer\")\n",
    "    inputs = Input(shape=shape)\n",
    "    encoder_outputs = model_encoder(inputs)\n",
    "    quantized_latents = vq_layer(encoder_outputs)\n",
    "    reconstructions = model_decoder(quantized_latents)\n",
    "    return Model(inputs, reconstructions, name=\"vq_vae\")"
   ],
   "metadata": {
    "collapsed": false,
    "ExecuteTime": {
     "end_time": "2023-11-04T19:20:09.926844500Z",
     "start_time": "2023-11-04T19:20:09.904741900Z"
    }
   }
  },
  {
   "cell_type": "code",
   "execution_count": 8,
   "outputs": [],
   "source": [
    "class VQVAETrainer(Model):\n",
    "    def __init__(self, data_shape, train_variance, latent_dim, num_embeddings, **kwargs):\n",
    "        super().__init__(**kwargs)\n",
    "        self.train_variance = train_variance\n",
    "        self.latent_dim = latent_dim\n",
    "        self.num_embeddings = num_embeddings\n",
    "        self.model_encoder = get_model_encoder(self.latent_dim, input_shape=data_shape)\n",
    "        self.model_decoder = get_model_decoder(self.model_encoder.output.shape[1:])\n",
    "\n",
    "        self.vqvae = get_vqvae(\n",
    "            shape=data_shape,\n",
    "            latent_dim=self.latent_dim,\n",
    "            num_embeddings=self.num_embeddings,\n",
    "            model_encoder=self.model_encoder,\n",
    "            model_decoder=self.model_decoder)\n",
    "\n",
    "        self.total_loss_tracker = Mean(name=\"total_loss\")\n",
    "        self.reconstruction_loss_tracker = Mean(\n",
    "            name=\"reconstruction_loss\"\n",
    "        )\n",
    "        self.vq_loss_tracker = Mean(name=\"vq_loss\")\n",
    "\n",
    "    @property\n",
    "    def metrics(self):\n",
    "        return [\n",
    "            self.total_loss_tracker,\n",
    "            self.reconstruction_loss_tracker,\n",
    "            self.vq_loss_tracker,\n",
    "        ]\n",
    "\n",
    "    def train_step(self, x):\n",
    "        with tf.GradientTape() as tape:\n",
    "            # Outputs from the VQ-VAE.\n",
    "            reconstructions = self.vqvae(x)\n",
    "\n",
    "            # Calculate the losses.\n",
    "            reconstruction_loss = (tf.reduce_mean((x - reconstructions) ** 2) / self.train_variance)\n",
    "            total_loss = reconstruction_loss + sum(self.vqvae.losses)\n",
    "\n",
    "        # Backpropagation.\n",
    "        grads = tape.gradient(total_loss, self.vqvae.trainable_variables)\n",
    "        self.optimizer.apply_gradients(zip(grads, self.vqvae.trainable_variables))\n",
    "\n",
    "        # Loss tracking.\n",
    "        self.total_loss_tracker.update_state(total_loss)\n",
    "        self.reconstruction_loss_tracker.update_state(reconstruction_loss)\n",
    "        self.vq_loss_tracker.update_state(sum(self.vqvae.losses))\n",
    "\n",
    "        # Log results.\n",
    "        return {\n",
    "            \"loss\": self.total_loss_tracker.result(),\n",
    "            \"reconstruction_loss\": self.reconstruction_loss_tracker.result(),\n",
    "            \"vqvae_loss\": self.vq_loss_tracker.result(),\n",
    "        }\n",
    "\n",
    "    @classmethod\n",
    "    def from_config(cls, config):\n",
    "        return cls(**config)"
   ],
   "metadata": {
    "collapsed": false,
    "ExecuteTime": {
     "end_time": "2023-11-04T19:20:10.875469100Z",
     "start_time": "2023-11-04T19:20:10.849336500Z"
    }
   }
  },
  {
   "cell_type": "markdown",
   "source": [
    "Dataset"
   ],
   "metadata": {
    "collapsed": false
   }
  },
  {
   "cell_type": "code",
   "execution_count": 9,
   "outputs": [],
   "source": [
    "(x_train, _), (x_test, _) = cifar10.load_data()\n",
    "\n",
    "# x_train = np.expand_dims(x_train, -1)\n",
    "# x_test = np.expand_dims(x_test, -1)\n",
    "x_train_scaled = (x_train / 255.0) - 0.5\n",
    "x_test_scaled = (x_test / 255.0) - 0.5"
   ],
   "metadata": {
    "collapsed": false,
    "ExecuteTime": {
     "end_time": "2023-11-04T19:31:07.320017300Z",
     "start_time": "2023-11-04T19:31:04.475138100Z"
    }
   }
  },
  {
   "cell_type": "markdown",
   "source": [
    "Params"
   ],
   "metadata": {
    "collapsed": false
   }
  },
  {
   "cell_type": "code",
   "execution_count": null,
   "outputs": [],
   "source": [
    "data_variance = np.var(x_train / 255.0)\n",
    "latent_dim = 15\n",
    "num_embeddings = 256"
   ],
   "metadata": {
    "collapsed": false
   }
  },
  {
   "cell_type": "markdown",
   "source": [
    "Initialization of trainer"
   ],
   "metadata": {
    "collapsed": false
   }
  },
  {
   "cell_type": "code",
   "execution_count": 12,
   "outputs": [],
   "source": [
    "# vqvae_trainer = VQVAETrainer(data_shape=x_train.shape[1:], train_variance=data_variance, latent_dim=16, num_embeddings=128)\n",
    "vqvae_trainer = VQVAETrainer(data_shape=x_train.shape[1:], train_variance=data_variance, latent_dim=latent_dim, num_embeddings=num_embeddings)"
   ],
   "metadata": {
    "collapsed": false,
    "ExecuteTime": {
     "end_time": "2023-11-04T19:33:31.726728800Z",
     "start_time": "2023-11-04T19:33:29.510426700Z"
    }
   }
  },
  {
   "cell_type": "markdown",
   "source": [
    "Neural characteristics"
   ],
   "metadata": {
    "collapsed": false
   }
  },
  {
   "cell_type": "code",
   "execution_count": 13,
   "outputs": [
    {
     "name": "stdout",
     "output_type": "stream",
     "text": [
      "Model: \"vq_vae\"\n",
      "_________________________________________________________________\n",
      " Layer (type)                Output Shape              Param #   \n",
      "=================================================================\n",
      " input_3 (InputLayer)        [(None, 32, 32, 3)]       0         \n",
      "                                                                 \n",
      " model_encoder (Functional)  (None, 8, 8, 15)          28431     \n",
      "                                                                 \n",
      " vector_quantizer (VectorQua  (None, 8, 8, 15)         3840      \n",
      " ntizer)                                                         \n",
      "                                                                 \n",
      " model_decoder (Functional)  (None, 32, 32, 3)         28419     \n",
      "                                                                 \n",
      "=================================================================\n",
      "Total params: 60,690\n",
      "Trainable params: 60,306\n",
      "Non-trainable params: 384\n",
      "_________________________________________________________________\n"
     ]
    }
   ],
   "source": [
    "vqvae_trainer.vqvae.summary()"
   ],
   "metadata": {
    "collapsed": false,
    "ExecuteTime": {
     "end_time": "2023-11-04T19:33:32.622992300Z",
     "start_time": "2023-11-04T19:33:32.591464Z"
    }
   }
  },
  {
   "cell_type": "markdown",
   "source": [
    "Compile trainer"
   ],
   "metadata": {
    "collapsed": false
   }
  },
  {
   "cell_type": "code",
   "execution_count": null,
   "outputs": [],
   "source": [
    "vqvae_trainer.compile(optimizer=Adam())"
   ],
   "metadata": {
    "collapsed": false
   }
  },
  {
   "cell_type": "markdown",
   "source": [
    "Training process"
   ],
   "metadata": {
    "collapsed": false
   }
  },
  {
   "cell_type": "code",
   "execution_count": 14,
   "outputs": [
    {
     "name": "stdout",
     "output_type": "stream",
     "text": [
      "Epoch 1/100\n",
      "391/391 [==============================] - 11s 8ms/step - loss: 13.4522 - reconstruction_loss: 0.3958 - vqvae_loss: 12.9070\n",
      "Epoch 2/100\n",
      "391/391 [==============================] - 3s 8ms/step - loss: 0.7280 - reconstruction_loss: 0.2336 - vqvae_loss: 0.4759\n",
      "Epoch 3/100\n",
      "391/391 [==============================] - 3s 8ms/step - loss: 0.4861 - reconstruction_loss: 0.1741 - vqvae_loss: 0.3035\n",
      "Epoch 4/100\n",
      "391/391 [==============================] - 3s 8ms/step - loss: 0.3982 - reconstruction_loss: 0.1480 - vqvae_loss: 0.2441\n",
      "Epoch 5/100\n",
      "391/391 [==============================] - 3s 8ms/step - loss: 0.3182 - reconstruction_loss: 0.1302 - vqvae_loss: 0.1843\n",
      "Epoch 6/100\n",
      "391/391 [==============================] - 3s 9ms/step - loss: 0.3045 - reconstruction_loss: 0.1199 - vqvae_loss: 0.1826\n",
      "Epoch 7/100\n",
      "391/391 [==============================] - 3s 8ms/step - loss: 0.3047 - reconstruction_loss: 0.1133 - vqvae_loss: 0.1899\n",
      "Epoch 8/100\n",
      "391/391 [==============================] - 3s 8ms/step - loss: 0.3005 - reconstruction_loss: 0.1088 - vqvae_loss: 0.1907\n",
      "Epoch 9/100\n",
      "391/391 [==============================] - 3s 8ms/step - loss: 0.3015 - reconstruction_loss: 0.1057 - vqvae_loss: 0.1951\n",
      "Epoch 10/100\n",
      "391/391 [==============================] - 3s 8ms/step - loss: 0.3060 - reconstruction_loss: 0.1032 - vqvae_loss: 0.2024\n",
      "Epoch 11/100\n",
      "391/391 [==============================] - 3s 8ms/step - loss: 0.3105 - reconstruction_loss: 0.1012 - vqvae_loss: 0.2086\n",
      "Epoch 12/100\n",
      "391/391 [==============================] - 3s 8ms/step - loss: 0.3106 - reconstruction_loss: 0.0996 - vqvae_loss: 0.2111\n",
      "Epoch 13/100\n",
      "391/391 [==============================] - 3s 8ms/step - loss: 0.3151 - reconstruction_loss: 0.0988 - vqvae_loss: 0.2164\n",
      "Epoch 14/100\n",
      "391/391 [==============================] - 3s 8ms/step - loss: 0.3211 - reconstruction_loss: 0.0980 - vqvae_loss: 0.2230\n",
      "Epoch 15/100\n",
      "391/391 [==============================] - 3s 8ms/step - loss: 0.3256 - reconstruction_loss: 0.0968 - vqvae_loss: 0.2281\n",
      "Epoch 16/100\n",
      "391/391 [==============================] - 3s 8ms/step - loss: 0.3281 - reconstruction_loss: 0.0956 - vqvae_loss: 0.2323\n",
      "Epoch 17/100\n",
      "391/391 [==============================] - 3s 8ms/step - loss: 0.3326 - reconstruction_loss: 0.0945 - vqvae_loss: 0.2377\n",
      "Epoch 18/100\n",
      "391/391 [==============================] - 3s 8ms/step - loss: 0.3336 - reconstruction_loss: 0.0934 - vqvae_loss: 0.2397\n",
      "Epoch 19/100\n",
      "391/391 [==============================] - 3s 8ms/step - loss: 0.3331 - reconstruction_loss: 0.0923 - vqvae_loss: 0.2405\n",
      "Epoch 20/100\n",
      "391/391 [==============================] - 3s 8ms/step - loss: 0.3316 - reconstruction_loss: 0.0913 - vqvae_loss: 0.2399\n",
      "Epoch 21/100\n",
      "391/391 [==============================] - 3s 8ms/step - loss: 0.3292 - reconstruction_loss: 0.0902 - vqvae_loss: 0.2386\n",
      "Epoch 22/100\n",
      "391/391 [==============================] - 3s 8ms/step - loss: 0.3252 - reconstruction_loss: 0.0891 - vqvae_loss: 0.2356\n",
      "Epoch 23/100\n",
      "391/391 [==============================] - 3s 9ms/step - loss: 0.3208 - reconstruction_loss: 0.0880 - vqvae_loss: 0.2325\n",
      "Epoch 24/100\n",
      "391/391 [==============================] - 3s 8ms/step - loss: 0.3175 - reconstruction_loss: 0.0871 - vqvae_loss: 0.2299\n",
      "Epoch 25/100\n",
      "391/391 [==============================] - 4s 9ms/step - loss: 0.3126 - reconstruction_loss: 0.0863 - vqvae_loss: 0.2261\n",
      "Epoch 26/100\n",
      "391/391 [==============================] - 3s 8ms/step - loss: 0.3100 - reconstruction_loss: 0.0854 - vqvae_loss: 0.2244\n",
      "Epoch 27/100\n",
      "391/391 [==============================] - 3s 8ms/step - loss: 0.3069 - reconstruction_loss: 0.0845 - vqvae_loss: 0.2222\n",
      "Epoch 28/100\n",
      "391/391 [==============================] - 3s 8ms/step - loss: 0.3020 - reconstruction_loss: 0.0836 - vqvae_loss: 0.2184\n",
      "Epoch 29/100\n",
      "391/391 [==============================] - 3s 8ms/step - loss: 0.3000 - reconstruction_loss: 0.0829 - vqvae_loss: 0.2168\n",
      "Epoch 30/100\n",
      "391/391 [==============================] - 3s 8ms/step - loss: 0.2979 - reconstruction_loss: 0.0821 - vqvae_loss: 0.2154\n",
      "Epoch 31/100\n",
      "391/391 [==============================] - 3s 8ms/step - loss: 0.2966 - reconstruction_loss: 0.0814 - vqvae_loss: 0.2150\n",
      "Epoch 32/100\n",
      "391/391 [==============================] - 3s 8ms/step - loss: 0.2943 - reconstruction_loss: 0.0809 - vqvae_loss: 0.2133\n",
      "Epoch 33/100\n",
      "391/391 [==============================] - 3s 8ms/step - loss: 0.2948 - reconstruction_loss: 0.0804 - vqvae_loss: 0.2144\n",
      "Epoch 34/100\n",
      "391/391 [==============================] - 3s 8ms/step - loss: 0.2940 - reconstruction_loss: 0.0799 - vqvae_loss: 0.2142\n",
      "Epoch 35/100\n",
      "391/391 [==============================] - 3s 8ms/step - loss: 0.2973 - reconstruction_loss: 0.0793 - vqvae_loss: 0.2175\n",
      "Epoch 36/100\n",
      "391/391 [==============================] - 3s 8ms/step - loss: 0.2988 - reconstruction_loss: 0.0788 - vqvae_loss: 0.2200\n",
      "Epoch 37/100\n",
      "391/391 [==============================] - 3s 8ms/step - loss: 0.3018 - reconstruction_loss: 0.0784 - vqvae_loss: 0.2231\n",
      "Epoch 38/100\n",
      "391/391 [==============================] - 3s 8ms/step - loss: 0.3063 - reconstruction_loss: 0.0779 - vqvae_loss: 0.2285\n",
      "Epoch 39/100\n",
      "391/391 [==============================] - 4s 10ms/step - loss: 0.3074 - reconstruction_loss: 0.0775 - vqvae_loss: 0.2299\n",
      "Epoch 40/100\n",
      "391/391 [==============================] - 3s 8ms/step - loss: 0.3057 - reconstruction_loss: 0.0771 - vqvae_loss: 0.2288\n",
      "Epoch 41/100\n",
      "391/391 [==============================] - 3s 8ms/step - loss: 0.3071 - reconstruction_loss: 0.0767 - vqvae_loss: 0.2301\n",
      "Epoch 42/100\n",
      "391/391 [==============================] - 3s 8ms/step - loss: 0.3060 - reconstruction_loss: 0.0762 - vqvae_loss: 0.2297\n",
      "Epoch 43/100\n",
      "391/391 [==============================] - 3s 8ms/step - loss: 0.3056 - reconstruction_loss: 0.0759 - vqvae_loss: 0.2296\n",
      "Epoch 44/100\n",
      "391/391 [==============================] - 3s 8ms/step - loss: 0.3054 - reconstruction_loss: 0.0755 - vqvae_loss: 0.2297\n",
      "Epoch 45/100\n",
      "391/391 [==============================] - 3s 8ms/step - loss: 0.3046 - reconstruction_loss: 0.0752 - vqvae_loss: 0.2293\n",
      "Epoch 46/100\n",
      "391/391 [==============================] - 3s 8ms/step - loss: 0.3034 - reconstruction_loss: 0.0748 - vqvae_loss: 0.2285\n",
      "Epoch 47/100\n",
      "391/391 [==============================] - 3s 8ms/step - loss: 0.3045 - reconstruction_loss: 0.0745 - vqvae_loss: 0.2296\n",
      "Epoch 48/100\n",
      "391/391 [==============================] - 3s 8ms/step - loss: 0.3021 - reconstruction_loss: 0.0742 - vqvae_loss: 0.2279\n",
      "Epoch 49/100\n",
      "391/391 [==============================] - 3s 8ms/step - loss: 0.3017 - reconstruction_loss: 0.0739 - vqvae_loss: 0.2277\n",
      "Epoch 50/100\n",
      "391/391 [==============================] - 3s 8ms/step - loss: 0.3011 - reconstruction_loss: 0.0737 - vqvae_loss: 0.2274\n",
      "Epoch 51/100\n",
      "391/391 [==============================] - 3s 8ms/step - loss: 0.3000 - reconstruction_loss: 0.0734 - vqvae_loss: 0.2267\n",
      "Epoch 52/100\n",
      "391/391 [==============================] - 4s 9ms/step - loss: 0.2988 - reconstruction_loss: 0.0731 - vqvae_loss: 0.2260\n",
      "Epoch 53/100\n",
      "391/391 [==============================] - 3s 8ms/step - loss: 0.2990 - reconstruction_loss: 0.0729 - vqvae_loss: 0.2261\n",
      "Epoch 54/100\n",
      "391/391 [==============================] - 3s 8ms/step - loss: 0.2990 - reconstruction_loss: 0.0726 - vqvae_loss: 0.2265\n",
      "Epoch 55/100\n",
      "391/391 [==============================] - 3s 9ms/step - loss: 0.2996 - reconstruction_loss: 0.0724 - vqvae_loss: 0.2274\n",
      "Epoch 56/100\n",
      "391/391 [==============================] - 3s 8ms/step - loss: 0.2988 - reconstruction_loss: 0.0722 - vqvae_loss: 0.2268\n",
      "Epoch 57/100\n",
      "391/391 [==============================] - 3s 8ms/step - loss: 0.2994 - reconstruction_loss: 0.0719 - vqvae_loss: 0.2277\n",
      "Epoch 58/100\n",
      "391/391 [==============================] - 3s 8ms/step - loss: 0.3037 - reconstruction_loss: 0.0717 - vqvae_loss: 0.2317\n",
      "Epoch 59/100\n",
      "391/391 [==============================] - 3s 8ms/step - loss: 0.3050 - reconstruction_loss: 0.0715 - vqvae_loss: 0.2335\n",
      "Epoch 60/100\n",
      "391/391 [==============================] - 3s 8ms/step - loss: 0.3077 - reconstruction_loss: 0.0712 - vqvae_loss: 0.2366\n",
      "Epoch 61/100\n",
      "391/391 [==============================] - 3s 8ms/step - loss: 0.3089 - reconstruction_loss: 0.0710 - vqvae_loss: 0.2378\n",
      "Epoch 62/100\n",
      "391/391 [==============================] - 3s 8ms/step - loss: 0.3082 - reconstruction_loss: 0.0707 - vqvae_loss: 0.2375\n",
      "Epoch 63/100\n",
      "391/391 [==============================] - 3s 8ms/step - loss: 0.3091 - reconstruction_loss: 0.0705 - vqvae_loss: 0.2385\n",
      "Epoch 64/100\n",
      "391/391 [==============================] - 3s 8ms/step - loss: 0.3097 - reconstruction_loss: 0.0703 - vqvae_loss: 0.2391\n",
      "Epoch 65/100\n",
      "391/391 [==============================] - 3s 8ms/step - loss: 0.3092 - reconstruction_loss: 0.0701 - vqvae_loss: 0.2390\n",
      "Epoch 66/100\n",
      "391/391 [==============================] - 3s 8ms/step - loss: 0.3091 - reconstruction_loss: 0.0699 - vqvae_loss: 0.2390\n",
      "Epoch 67/100\n",
      "391/391 [==============================] - 3s 9ms/step - loss: 0.3081 - reconstruction_loss: 0.0697 - vqvae_loss: 0.2383\n",
      "Epoch 68/100\n",
      "391/391 [==============================] - 3s 8ms/step - loss: 0.3068 - reconstruction_loss: 0.0695 - vqvae_loss: 0.2373\n",
      "Epoch 69/100\n",
      "391/391 [==============================] - 3s 8ms/step - loss: 0.3063 - reconstruction_loss: 0.0693 - vqvae_loss: 0.2370\n",
      "Epoch 70/100\n",
      "391/391 [==============================] - 3s 8ms/step - loss: 0.3068 - reconstruction_loss: 0.0691 - vqvae_loss: 0.2376\n",
      "Epoch 71/100\n",
      "391/391 [==============================] - 4s 10ms/step - loss: 0.3061 - reconstruction_loss: 0.0689 - vqvae_loss: 0.2371\n",
      "Epoch 72/100\n",
      "391/391 [==============================] - 3s 8ms/step - loss: 0.3057 - reconstruction_loss: 0.0688 - vqvae_loss: 0.2371\n",
      "Epoch 73/100\n",
      "391/391 [==============================] - 3s 8ms/step - loss: 0.3077 - reconstruction_loss: 0.0687 - vqvae_loss: 0.2388\n",
      "Epoch 74/100\n",
      "391/391 [==============================] - 3s 8ms/step - loss: 0.3087 - reconstruction_loss: 0.0686 - vqvae_loss: 0.2398\n",
      "Epoch 75/100\n",
      "391/391 [==============================] - 3s 8ms/step - loss: 0.3084 - reconstruction_loss: 0.0686 - vqvae_loss: 0.2397\n",
      "Epoch 76/100\n",
      "391/391 [==============================] - 3s 8ms/step - loss: 0.3082 - reconstruction_loss: 0.0685 - vqvae_loss: 0.2397\n",
      "Epoch 77/100\n",
      "391/391 [==============================] - 3s 8ms/step - loss: 0.3088 - reconstruction_loss: 0.0685 - vqvae_loss: 0.2404\n",
      "Epoch 78/100\n",
      "391/391 [==============================] - 3s 8ms/step - loss: 0.3100 - reconstruction_loss: 0.0684 - vqvae_loss: 0.2414\n",
      "Epoch 79/100\n",
      "391/391 [==============================] - 3s 8ms/step - loss: 0.3092 - reconstruction_loss: 0.0684 - vqvae_loss: 0.2409\n",
      "Epoch 80/100\n",
      "391/391 [==============================] - 3s 8ms/step - loss: 0.3103 - reconstruction_loss: 0.0683 - vqvae_loss: 0.2421\n",
      "Epoch 81/100\n",
      "391/391 [==============================] - 3s 8ms/step - loss: 0.3117 - reconstruction_loss: 0.0683 - vqvae_loss: 0.2432\n",
      "Epoch 82/100\n",
      "391/391 [==============================] - 3s 8ms/step - loss: 0.3110 - reconstruction_loss: 0.0683 - vqvae_loss: 0.2427\n",
      "Epoch 83/100\n",
      "391/391 [==============================] - 3s 9ms/step - loss: 0.3130 - reconstruction_loss: 0.0683 - vqvae_loss: 0.2444\n",
      "Epoch 84/100\n",
      "391/391 [==============================] - 3s 8ms/step - loss: 0.3120 - reconstruction_loss: 0.0682 - vqvae_loss: 0.2438\n",
      "Epoch 85/100\n",
      "391/391 [==============================] - 3s 8ms/step - loss: 0.3120 - reconstruction_loss: 0.0682 - vqvae_loss: 0.2439\n",
      "Epoch 86/100\n",
      "391/391 [==============================] - 3s 8ms/step - loss: 0.3135 - reconstruction_loss: 0.0682 - vqvae_loss: 0.2452\n",
      "Epoch 87/100\n",
      "391/391 [==============================] - 4s 10ms/step - loss: 0.3128 - reconstruction_loss: 0.0681 - vqvae_loss: 0.2448\n",
      "Epoch 88/100\n",
      "391/391 [==============================] - 4s 9ms/step - loss: 0.3145 - reconstruction_loss: 0.0681 - vqvae_loss: 0.2464\n",
      "Epoch 89/100\n",
      "391/391 [==============================] - 3s 8ms/step - loss: 0.3147 - reconstruction_loss: 0.0681 - vqvae_loss: 0.2465\n",
      "Epoch 90/100\n",
      "391/391 [==============================] - 3s 8ms/step - loss: 0.3146 - reconstruction_loss: 0.0681 - vqvae_loss: 0.2467\n",
      "Epoch 91/100\n",
      "391/391 [==============================] - 3s 8ms/step - loss: 0.3146 - reconstruction_loss: 0.0680 - vqvae_loss: 0.2466\n",
      "Epoch 92/100\n",
      "391/391 [==============================] - 3s 8ms/step - loss: 0.3156 - reconstruction_loss: 0.0681 - vqvae_loss: 0.2474\n",
      "Epoch 93/100\n",
      "391/391 [==============================] - 3s 8ms/step - loss: 0.3154 - reconstruction_loss: 0.0680 - vqvae_loss: 0.2474\n",
      "Epoch 94/100\n",
      "391/391 [==============================] - 3s 9ms/step - loss: 0.3147 - reconstruction_loss: 0.0680 - vqvae_loss: 0.2469\n",
      "Epoch 95/100\n",
      "391/391 [==============================] - 3s 9ms/step - loss: 0.3150 - reconstruction_loss: 0.0680 - vqvae_loss: 0.2471\n",
      "Epoch 96/100\n",
      "391/391 [==============================] - 3s 8ms/step - loss: 0.3156 - reconstruction_loss: 0.0679 - vqvae_loss: 0.2478\n",
      "Epoch 97/100\n",
      "391/391 [==============================] - 3s 8ms/step - loss: 0.3160 - reconstruction_loss: 0.0679 - vqvae_loss: 0.2482\n",
      "Epoch 98/100\n",
      "391/391 [==============================] - 3s 8ms/step - loss: 0.3172 - reconstruction_loss: 0.0679 - vqvae_loss: 0.2491\n",
      "Epoch 99/100\n",
      "391/391 [==============================] - 3s 7ms/step - loss: 0.3173 - reconstruction_loss: 0.0679 - vqvae_loss: 0.2494\n",
      "Epoch 100/100\n",
      "391/391 [==============================] - 3s 8ms/step - loss: 0.3165 - reconstruction_loss: 0.0679 - vqvae_loss: 0.2487\n"
     ]
    }
   ],
   "source": [
    "history = vqvae_trainer.fit(x_train_scaled,\n",
    "                            epochs=100,\n",
    "                            batch_size=128)"
   ],
   "metadata": {
    "collapsed": false,
    "ExecuteTime": {
     "end_time": "2023-11-04T19:39:15.802398600Z",
     "start_time": "2023-11-04T19:33:51.490491300Z"
    }
   }
  },
  {
   "cell_type": "markdown",
   "source": [
    "# Evaluation"
   ],
   "metadata": {
    "collapsed": false
   }
  },
  {
   "cell_type": "code",
   "execution_count": 15,
   "outputs": [
    {
     "data": {
      "text/plain": "<Figure size 640x480 with 1 Axes>",
      "image/png": "[encoded data removed]"
     },
     "metadata": {},
     "output_type": "display_data"
    }
   ],
   "source": [
    "pd.DataFrame({\n",
    "    'train_loss': history.history[\"loss\"],\n",
    "    'reconstruction_loss': history.history[\"reconstruction_loss\"],\n",
    "    'vqvae_loss': history.history[\"vqvae_loss\"]}).plot(ylim=(0, 2));"
   ],
   "metadata": {
    "collapsed": false,
    "ExecuteTime": {
     "end_time": "2023-11-04T19:43:02.215924700Z",
     "start_time": "2023-11-04T19:43:01.937539600Z"
    }
   }
  },
  {
   "cell_type": "markdown",
   "source": [
    "# Store models"
   ],
   "metadata": {
    "collapsed": false
   }
  },
  {
   "cell_type": "code",
   "execution_count": null,
   "outputs": [],
   "source": [
    "BASE_DIR = '../models'\n",
    "COMPRESSOR_MODEL_NAME = 'compressor_model_v'\n",
    "COMPRESSOR_DECODER_NAME = 'compressor_decoder_v'"
   ],
   "metadata": {
    "collapsed": false
   }
  },
  {
   "cell_type": "code",
   "execution_count": 16,
   "outputs": [],
   "source": [
    "decoder = vqvae_trainer.vqvae.get_layer('model_decoder')"
   ],
   "metadata": {
    "collapsed": false,
    "ExecuteTime": {
     "end_time": "2023-11-04T19:43:30.730798400Z",
     "start_time": "2023-11-04T19:43:30.712791700Z"
    }
   }
  },
  {
   "cell_type": "code",
   "execution_count": 17,
   "outputs": [
    {
     "name": "stdout",
     "output_type": "stream",
     "text": [
      "WARNING:tensorflow:Compiled the loaded model, but the compiled metrics have yet to be built. `model.compile_metrics` will be empty until you train or evaluate the model.\n"
     ]
    },
    {
     "name": "stderr",
     "output_type": "stream",
     "text": [
      "WARNING:absl:Found untraced functions such as _jit_compiled_convolution_op, _jit_compiled_convolution_op, _jit_compiled_convolution_op, _jit_compiled_convolution_op, _jit_compiled_convolution_op while saving (showing 5 of 6). These functions will not be directly callable after loading.\n"
     ]
    },
    {
     "name": "stdout",
     "output_type": "stream",
     "text": [
      "INFO:tensorflow:Assets written to: ../models/lossless_compressor_model_v3\\assets\n"
     ]
    },
    {
     "name": "stderr",
     "output_type": "stream",
     "text": [
      "INFO:tensorflow:Assets written to: ../models/lossless_compressor_model_v3\\assets\n"
     ]
    }
   ],
   "source": [
    "version = glob.glob(f'{BASE_DIR}*').__len__() + 1\n",
    "\n",
    "file_path = f'{BASE_DIR}/{COMPRESSOR_MODEL_NAME}{version}'\n",
    "vqvae_trainer.vqvae.save(file_path)"
   ],
   "metadata": {
    "collapsed": false,
    "ExecuteTime": {
     "end_time": "2023-11-04T19:43:34.481658900Z",
     "start_time": "2023-11-04T19:43:31.733491600Z"
    }
   }
  },
  {
   "cell_type": "code",
   "execution_count": 18,
   "outputs": [
    {
     "name": "stdout",
     "output_type": "stream",
     "text": [
      "WARNING:tensorflow:Compiled the loaded model, but the compiled metrics have yet to be built. `model.compile_metrics` will be empty until you train or evaluate the model.\n"
     ]
    },
    {
     "name": "stderr",
     "output_type": "stream",
     "text": [
      "WARNING:tensorflow:Compiled the loaded model, but the compiled metrics have yet to be built. `model.compile_metrics` will be empty until you train or evaluate the model.\n",
      "WARNING:absl:Found untraced functions such as _jit_compiled_convolution_op, _jit_compiled_convolution_op, _jit_compiled_convolution_op while saving (showing 3 of 3). These functions will not be directly callable after loading.\n"
     ]
    },
    {
     "name": "stdout",
     "output_type": "stream",
     "text": [
      "INFO:tensorflow:Assets written to: ../models/lossless_compressor_decoder_v3\\assets\n"
     ]
    },
    {
     "name": "stderr",
     "output_type": "stream",
     "text": [
      "INFO:tensorflow:Assets written to: ../models/lossless_compressor_decoder_v3\\assets\n"
     ]
    }
   ],
   "source": [
    "decoder.save(f'{BASE_DIR}/{COMPRESSOR_DECODER_NAME}{version}')"
   ],
   "metadata": {
    "collapsed": false,
    "ExecuteTime": {
     "end_time": "2023-11-04T19:43:37.017122Z",
     "start_time": "2023-11-04T19:43:35.519591200Z"
    }
   }
  },
  {
   "cell_type": "markdown",
   "source": [
    "# Load models and layers"
   ],
   "metadata": {
    "collapsed": false
   }
  },
  {
   "cell_type": "code",
   "execution_count": 19,
   "outputs": [
    {
     "name": "stdout",
     "output_type": "stream",
     "text": [
      "WARNING:tensorflow:No training configuration found in save file, so the model was *not* compiled. Compile it manually.\n"
     ]
    },
    {
     "name": "stderr",
     "output_type": "stream",
     "text": [
      "WARNING:tensorflow:No training configuration found in save file, so the model was *not* compiled. Compile it manually.\n"
     ]
    }
   ],
   "source": [
    "vqvae_model = load_model(f'{BASE_DIR}/{COMPRESSOR_MODEL_NAME}{version}')\n",
    "\n",
    "# both decoder_model and vqvae_model.get_layer('decoder') can be used for decompression, remember with the separation of decoder_model will require less memory storage\n",
    "decoder_model = load_model(f'{BASE_DIR}/{COMPRESSOR_DECODER_NAME}{version}', compile=False)"
   ],
   "metadata": {
    "collapsed": false,
    "ExecuteTime": {
     "end_time": "2023-11-04T19:43:41.773717700Z",
     "start_time": "2023-11-04T19:43:40.462575900Z"
    }
   }
  },
  {
   "cell_type": "code",
   "execution_count": 20,
   "outputs": [],
   "source": [
    "encoder = vqvae_model.get_layer(\"model_encoder\")\n",
    "quantizer = vqvae_model.get_layer(\"vector_quantizer\")\n",
    "decoder = vqvae_model.get_layer('model_decoder')"
   ],
   "metadata": {
    "collapsed": false,
    "ExecuteTime": {
     "end_time": "2023-11-04T19:43:42.756434800Z",
     "start_time": "2023-11-04T19:43:42.735120800Z"
    }
   }
  },
  {
   "cell_type": "code",
   "execution_count": 21,
   "outputs": [],
   "source": [
    "def get_code_indices(flattened_inputs, embeddings):\n",
    "        # Calculate L2-normalized distance between the inputs and the codes.\n",
    "        similarity = tf.matmul(flattened_inputs, embeddings)\n",
    "        distances = (\n",
    "            tf.reduce_sum(flattened_inputs ** 2, axis=1, keepdims=True)\n",
    "            + tf.reduce_sum(embeddings ** 2, axis=0)\n",
    "            - 2 * similarity\n",
    "        )\n",
    "\n",
    "        # Derive the indices for minimum distances.\n",
    "        encoding_indices = tf.argmin(distances, axis=1)\n",
    "        return encoding_indices"
   ],
   "metadata": {
    "collapsed": false,
    "ExecuteTime": {
     "end_time": "2023-11-04T19:43:43.872144300Z",
     "start_time": "2023-11-04T19:43:43.845545500Z"
    }
   }
  },
  {
   "cell_type": "markdown",
   "source": [
    "# Test"
   ],
   "metadata": {
    "collapsed": false
   }
  },
  {
   "cell_type": "code",
   "execution_count": 35,
   "outputs": [
    {
     "name": "stdout",
     "output_type": "stream",
     "text": [
      "1/1 [==============================] - 0s 65ms/step\n"
     ]
    }
   ],
   "source": [
    "# Select random sample\n",
    "idx = np.random.choice(len(x_test_scaled), 10)\n",
    "test_images = x_test_scaled[idx]\n",
    "\n",
    "# Predict encodes\n",
    "encoded_outputs = encoder.predict(test_images)\n",
    "\n",
    "# Restructure encodes dims\n",
    "flat_enc_outputs = encoded_outputs.reshape(-1, encoded_outputs.shape[-1])\n",
    "\n",
    "# Get code indices\n",
    "codebook_indices = get_code_indices(flat_enc_outputs, quantizer.embeddings)\n",
    "\n",
    "# Restructure code indices dims\n",
    "codebook_indices = codebook_indices.numpy().reshape(encoded_outputs.shape[:-1])"
   ],
   "metadata": {
    "collapsed": false,
    "ExecuteTime": {
     "end_time": "2023-11-04T19:47:31.113477200Z",
     "start_time": "2023-11-04T19:47:30.951139200Z"
    }
   }
  },
  {
   "cell_type": "code",
   "execution_count": 68,
   "outputs": [
    {
     "data": {
      "text/plain": "TensorShape([15, 256])"
     },
     "execution_count": 68,
     "metadata": {},
     "output_type": "execute_result"
    }
   ],
   "source": [
    "# Quantizers' embeddings dims in Tensor\n",
    "quantizer.embeddings.shape"
   ],
   "metadata": {
    "collapsed": false,
    "ExecuteTime": {
     "end_time": "2023-11-04T20:15:54.311644800Z",
     "start_time": "2023-11-04T20:15:54.268604700Z"
    }
   }
  },
  {
   "cell_type": "code",
   "execution_count": 65,
   "outputs": [
    {
     "name": "stdout",
     "output_type": "stream",
     "text": [
      "1/1 [==============================] - 0s 22ms/step\n"
     ]
    }
   ],
   "source": [
    "# Retrieve quantized latents\n",
    "quantized_latents = quantizer(encoded_outputs)\n",
    "\n",
    "# Reconstruct y-hat from quantization\n",
    "reconstructed_img = decoder.predict(quantized_latents)"
   ],
   "metadata": {
    "collapsed": false,
    "ExecuteTime": {
     "end_time": "2023-11-04T20:14:31.394742700Z",
     "start_time": "2023-11-04T20:14:31.295601Z"
    }
   }
  },
  {
   "cell_type": "markdown",
   "source": [
    "Quantized Tensor shape"
   ],
   "metadata": {
    "collapsed": false
   }
  },
  {
   "cell_type": "code",
   "execution_count": 37,
   "outputs": [
    {
     "data": {
      "text/plain": "(TensorShape([10, 8, 8, 15]), (10, 8, 8), (10, 32, 32, 3), (10, 32, 32, 3))"
     },
     "execution_count": 37,
     "metadata": {},
     "output_type": "execute_result"
    }
   ],
   "source": [
    "quantized_latents.shape, codebook_indices.shape, reconstructed_img.shape, test_images.shape"
   ],
   "metadata": {
    "collapsed": false,
    "ExecuteTime": {
     "end_time": "2023-11-04T19:47:33.836742900Z",
     "start_time": "2023-11-04T19:47:33.814468700Z"
    }
   }
  },
  {
   "cell_type": "markdown",
   "source": [
    "Compression of"
   ],
   "metadata": {
    "collapsed": false
   }
  },
  {
   "cell_type": "code",
   "execution_count": 38,
   "outputs": [
    {
     "data": {
      "text/plain": "(960, 3072)"
     },
     "execution_count": 38,
     "metadata": {},
     "output_type": "execute_result"
    }
   ],
   "source": [
    "8*8*15, 32*32*3"
   ],
   "metadata": {
    "collapsed": false,
    "ExecuteTime": {
     "end_time": "2023-11-04T19:47:36.576323800Z",
     "start_time": "2023-11-04T19:47:36.548206700Z"
    }
   }
  },
  {
   "cell_type": "code",
   "execution_count": 39,
   "outputs": [
    {
     "name": "stderr",
     "output_type": "stream",
     "text": [
      "WARNING:matplotlib.image:Clipping input data to the valid range for imshow with RGB data ([0..1] for floats or [0..255] for integers).\n",
      "WARNING:matplotlib.image:Clipping input data to the valid range for imshow with RGB data ([0..1] for floats or [0..255] for integers).\n"
     ]
    },
    {
     "name": "stdout",
     "output_type": "stream",
     "text": [
      "(32, 32, 3) (8, 8) (32, 32, 3)\n"
     ]
    },
    {
     "data": {
      "text/plain": "<Figure size 640x480 with 3 Axes>",
      "image/png": "[encoded data removed]"
     },
     "metadata": {},
     "output_type": "display_data"
    },
    {
     "name": "stderr",
     "output_type": "stream",
     "text": [
      "WARNING:matplotlib.image:Clipping input data to the valid range for imshow with RGB data ([0..1] for floats or [0..255] for integers).\n",
      "WARNING:matplotlib.image:Clipping input data to the valid range for imshow with RGB data ([0..1] for floats or [0..255] for integers).\n"
     ]
    },
    {
     "name": "stdout",
     "output_type": "stream",
     "text": [
      "(32, 32, 3) (8, 8) (32, 32, 3)\n"
     ]
    },
    {
     "data": {
      "text/plain": "<Figure size 640x480 with 3 Axes>",
      "image/png": "[encoded data removed]"
     },
     "metadata": {},
     "output_type": "display_data"
    },
    {
     "name": "stderr",
     "output_type": "stream",
     "text": [
      "WARNING:matplotlib.image:Clipping input data to the valid range for imshow with RGB data ([0..1] for floats or [0..255] for integers).\n",
      "WARNING:matplotlib.image:Clipping input data to the valid range for imshow with RGB data ([0..1] for floats or [0..255] for integers).\n"
     ]
    },
    {
     "name": "stdout",
     "output_type": "stream",
     "text": [
      "(32, 32, 3) (8, 8) (32, 32, 3)\n"
     ]
    },
    {
     "data": {
      "text/plain": "<Figure size 640x480 with 3 Axes>",
      "image/png": "[encoded data removed]"
     },
     "metadata": {},
     "output_type": "display_data"
    },
    {
     "name": "stderr",
     "output_type": "stream",
     "text": [
      "WARNING:matplotlib.image:Clipping input data to the valid range for imshow with RGB data ([0..1] for floats or [0..255] for integers).\n",
      "WARNING:matplotlib.image:Clipping input data to the valid range for imshow with RGB data ([0..1] for floats or [0..255] for integers).\n"
     ]
    },
    {
     "name": "stdout",
     "output_type": "stream",
     "text": [
      "(32, 32, 3) (8, 8) (32, 32, 3)\n"
     ]
    },
    {
     "data": {
      "text/plain": "<Figure size 640x480 with 3 Axes>",
      "image/png": "[encoded data removed]"
     },
     "metadata": {},
     "output_type": "display_data"
    },
    {
     "name": "stderr",
     "output_type": "stream",
     "text": [
      "WARNING:matplotlib.image:Clipping input data to the valid range for imshow with RGB data ([0..1] for floats or [0..255] for integers).\n",
      "WARNING:matplotlib.image:Clipping input data to the valid range for imshow with RGB data ([0..1] for floats or [0..255] for integers).\n"
     ]
    },
    {
     "name": "stdout",
     "output_type": "stream",
     "text": [
      "(32, 32, 3) (8, 8) (32, 32, 3)\n"
     ]
    },
    {
     "data": {
      "text/plain": "<Figure size 640x480 with 3 Axes>",
      "image/png": "[encoded data removed]"
     },
     "metadata": {},
     "output_type": "display_data"
    },
    {
     "name": "stderr",
     "output_type": "stream",
     "text": [
      "WARNING:matplotlib.image:Clipping input data to the valid range for imshow with RGB data ([0..1] for floats or [0..255] for integers).\n",
      "WARNING:matplotlib.image:Clipping input data to the valid range for imshow with RGB data ([0..1] for floats or [0..255] for integers).\n"
     ]
    },
    {
     "name": "stdout",
     "output_type": "stream",
     "text": [
      "(32, 32, 3) (8, 8) (32, 32, 3)\n"
     ]
    },
    {
     "data": {
      "text/plain": "<Figure size 640x480 with 3 Axes>",
      "image/png": "[encoded data removed]"
     },
     "metadata": {},
     "output_type": "display_data"
    },
    {
     "name": "stderr",
     "output_type": "stream",
     "text": [
      "WARNING:matplotlib.image:Clipping input data to the valid range for imshow with RGB data ([0..1] for floats or [0..255] for integers).\n",
      "WARNING:matplotlib.image:Clipping input data to the valid range for imshow with RGB data ([0..1] for floats or [0..255] for integers).\n"
     ]
    },
    {
     "name": "stdout",
     "output_type": "stream",
     "text": [
      "(32, 32, 3) (8, 8) (32, 32, 3)\n"
     ]
    },
    {
     "data": {
      "text/plain": "<Figure size 640x480 with 3 Axes>",
      "image/png": "[encoded data removed]"
     },
     "metadata": {},
     "output_type": "display_data"
    },
    {
     "name": "stderr",
     "output_type": "stream",
     "text": [
      "WARNING:matplotlib.image:Clipping input data to the valid range for imshow with RGB data ([0..1] for floats or [0..255] for integers).\n",
      "WARNING:matplotlib.image:Clipping input data to the valid range for imshow with RGB data ([0..1] for floats or [0..255] for integers).\n"
     ]
    },
    {
     "name": "stdout",
     "output_type": "stream",
     "text": [
      "(32, 32, 3) (8, 8) (32, 32, 3)\n"
     ]
    },
    {
     "data": {
      "text/plain": "<Figure size 640x480 with 3 Axes>",
      "image/png": "[encoded data removed]"
     },
     "metadata": {},
     "output_type": "display_data"
    },
    {
     "name": "stderr",
     "output_type": "stream",
     "text": [
      "WARNING:matplotlib.image:Clipping input data to the valid range for imshow with RGB data ([0..1] for floats or [0..255] for integers).\n",
      "WARNING:matplotlib.image:Clipping input data to the valid range for imshow with RGB data ([0..1] for floats or [0..255] for integers).\n"
     ]
    },
    {
     "name": "stdout",
     "output_type": "stream",
     "text": [
      "(32, 32, 3) (8, 8) (32, 32, 3)\n"
     ]
    },
    {
     "data": {
      "text/plain": "<Figure size 640x480 with 3 Axes>",
      "image/png": "[encoded data removed]"
     },
     "metadata": {},
     "output_type": "display_data"
    },
    {
     "name": "stderr",
     "output_type": "stream",
     "text": [
      "WARNING:matplotlib.image:Clipping input data to the valid range for imshow with RGB data ([0..1] for floats or [0..255] for integers).\n",
      "WARNING:matplotlib.image:Clipping input data to the valid range for imshow with RGB data ([0..1] for floats or [0..255] for integers).\n"
     ]
    },
    {
     "name": "stdout",
     "output_type": "stream",
     "text": [
      "(32, 32, 3) (8, 8) (32, 32, 3)\n"
     ]
    },
    {
     "data": {
      "text/plain": "<Figure size 640x480 with 3 Axes>",
      "image/png": "[encoded data removed]"
     },
     "metadata": {},
     "output_type": "display_data"
    }
   ],
   "source": [
    "for i in range(len(test_images)):\n",
    "    plt.subplot(1, 3, 1)\n",
    "    plt.imshow(test_images[i], cmap=\"Greys_r\")\n",
    "    plt.title(f\"O\")\n",
    "    plt.axis(\"off\")\n",
    "\n",
    "    plt.subplot(1, 3, 2)\n",
    "    plt.imshow(codebook_indices[i], cmap=\"Greys_r\")\n",
    "    plt.title(f\"C\")\n",
    "    plt.axis(\"off\")\n",
    "\n",
    "    mean_absolute_error = MAE(test_images[i].flatten(), reconstructed_img[i].flatten())\n",
    "    mean_absolute_error = np.round(mean_absolute_error.numpy(), 3)\n",
    "\n",
    "    plt.subplot(1, 3, 3)\n",
    "    plt.imshow(reconstructed_img[i], cmap=\"Greys_r\")\n",
    "    plt.title(f\"R: (MAE: {f'{mean_absolute_error}'[:5]})\")\n",
    "\n",
    "    print(test_images[i].shape, codebook_indices[i].shape, reconstructed_img[i].shape)\n",
    "\n",
    "    plt.axis(\"off\")\n",
    "    plt.show()"
   ],
   "metadata": {
    "collapsed": false,
    "ExecuteTime": {
     "end_time": "2023-11-04T19:47:39.028806100Z",
     "start_time": "2023-11-04T19:47:37.380261300Z"
    }
   }
  },
  {
   "cell_type": "code",
   "execution_count": null,
   "outputs": [],
   "source": [],
   "metadata": {
    "collapsed": false
   }
  }
 ],
 "metadata": {
  "kernelspec": {
   "display_name": "Python 3",
   "language": "python",
   "name": "python3"
  },
  "language_info": {
   "codemirror_mode": {
    "name": "ipython",
    "version": 2
   },
   "file_extension": ".py",
   "mimetype": "text/x-python",
   "name": "python",
   "nbconvert_exporter": "python",
   "pygments_lexer": "ipython2",
   "version": "2.7.6"
  }
 },
 "nbformat": 4,
 "nbformat_minor": 0
}
