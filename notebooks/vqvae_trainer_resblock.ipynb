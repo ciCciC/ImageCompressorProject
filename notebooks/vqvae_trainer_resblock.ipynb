{
 "cells": [
  {
   "cell_type": "markdown",
   "source": [
    "# VQVAE and Residual Stack"
   ],
   "metadata": {
    "collapsed": false
   }
  },
  {
   "cell_type": "code",
   "execution_count": 1,
   "metadata": {
    "collapsed": true,
    "ExecuteTime": {
     "end_time": "2023-07-14T19:20:19.384683Z",
     "start_time": "2023-07-14T19:20:14.765725Z"
    }
   },
   "outputs": [],
   "source": [
    "from keras import layers as Layer, Input, Model, Sequential\n",
    "from keras.datasets import mnist, cifar10\n",
    "from keras.optimizers import Adam\n",
    "from keras.metrics import Mean, MAE\n",
    "from keras.models import load_model\n",
    "import numpy as np\n",
    "import matplotlib.pyplot as plt\n",
    "import tensorflow as tf\n",
    "import pandas as pd\n",
    "import glob"
   ]
  },
  {
   "cell_type": "code",
   "execution_count": 2,
   "outputs": [
    {
     "data": {
      "text/plain": "[PhysicalDevice(name='/physical_device:CPU:0', device_type='CPU'),\n PhysicalDevice(name='/physical_device:GPU:0', device_type='GPU')]"
     },
     "execution_count": 2,
     "metadata": {},
     "output_type": "execute_result"
    }
   ],
   "source": [
    "tf.config.get_visible_devices()"
   ],
   "metadata": {
    "collapsed": false,
    "ExecuteTime": {
     "end_time": "2023-07-14T19:20:53.818494Z",
     "start_time": "2023-07-14T19:20:53.810544Z"
    }
   }
  },
  {
   "cell_type": "code",
   "execution_count": 5,
   "outputs": [],
   "source": [
    "class ResidualStack(tf.Module):\n",
    "    def __init__(self, num_hiddens, num_residual_layers, num_residual_hiddens,\n",
    "                 name=None):\n",
    "        super(ResidualStack, self).__init__(name=name)\n",
    "        self._num_hiddens = num_hiddens\n",
    "        self._num_residual_layers = num_residual_layers\n",
    "        self._num_residual_hiddens = num_residual_hiddens\n",
    "\n",
    "        self._layers = []\n",
    "        for idx in range(num_residual_layers):\n",
    "            conv3 = Layer.Conv2D(num_residual_hiddens, kernel_size=3, strides=1, padding='same', name=f'res3x3_{idx}')\n",
    "            conv1 = Layer.Conv2D(num_hiddens, kernel_size=1, strides=1, padding='same', name=f'res1x1_{idx}')\n",
    "            self._layers.append((conv3, conv1))\n",
    "\n",
    "    def __call__(self, inputs):\n",
    "        h = inputs\n",
    "        for conv3, conv1 in self._layers:\n",
    "            conv3_out_l = conv3(tf.nn.relu(h))\n",
    "            conv1_out_l = conv1(tf.nn.relu(conv3_out_l))\n",
    "            h += conv1_out_l\n",
    "        return tf.nn.relu(h)"
   ],
   "metadata": {
    "collapsed": false,
    "ExecuteTime": {
     "end_time": "2023-07-14T19:31:20.572354Z",
     "start_time": "2023-07-14T19:31:20.566544Z"
    }
   }
  },
  {
   "cell_type": "code",
   "execution_count": 6,
   "outputs": [],
   "source": [
    "class Encoder(Model):\n",
    "    def __init__(self, num_hiddens, num_residual_layers, num_residual_hiddens,\n",
    "                 name=None):\n",
    "        super(Encoder, self).__init__(name=name)\n",
    "\n",
    "        self._num_hiddens = num_hiddens\n",
    "        self._num_residual_layers = num_residual_layers\n",
    "        self._num_residual_hiddens = num_residual_hiddens\n",
    "\n",
    "        self._enc_l1 = Layer.Conv2D(self._num_hiddens // 2, kernel_size=(4, 4), strides=(2, 2), name='enc_l1')\n",
    "        self._enc_l2 = Layer.Conv2D(self._num_hiddens, kernel_size=(4, 4), strides=(2, 2), name='enc_l2')\n",
    "        self._enc_l3 = Layer.Conv2D(self._num_hiddens, kernel_size=(3, 3), strides=(1, 1), name='enc_l3')\n",
    "        self._residual_stack = ResidualStack(self._num_hiddens, self._num_residual_layers, self._num_residual_hiddens,\n",
    "                                             name='resblock1')\n",
    "\n",
    "    def call(self, input, training=None, mask=None):\n",
    "        h = tf.nn.relu(self._enc_l1(input))\n",
    "        h = tf.nn.relu(self._enc_l2(h))\n",
    "        h = tf.nn.relu(self._enc_l3(h))\n",
    "        return self._residual_stack(h)"
   ],
   "metadata": {
    "collapsed": false,
    "ExecuteTime": {
     "end_time": "2023-07-14T19:31:21.195631Z",
     "start_time": "2023-07-14T19:31:21.192504Z"
    }
   }
  },
  {
   "cell_type": "code",
   "execution_count": 16,
   "outputs": [],
   "source": [
    "class Decoder(Model):\n",
    "    def __init__(self, num_hiddens, num_residual_layers, num_residual_hiddens,\n",
    "                 name=None):\n",
    "        super(Decoder, self).__init__(name=name)\n",
    "\n",
    "        self._num_hiddens = num_hiddens\n",
    "        self._num_residual_layers = num_residual_layers\n",
    "        self._num_residual_hiddens = num_residual_hiddens\n",
    "\n",
    "        self._dec1 = Layer.Conv2D(self._num_hiddens, kernel_size=(3, 3), strides=(1, 1), name='dec_l1')\n",
    "\n",
    "        self._residual_stack = ResidualStack(\n",
    "            self._num_hiddens,\n",
    "            self._num_residual_layers,\n",
    "            self._num_residual_hiddens,\n",
    "            name='resblock2'\n",
    "        )\n",
    "\n",
    "        self._dec2 = Layer.Conv2DTranspose(self._num_hiddens // 2, kernel_size=(4, 4), strides=(2, 2), name='dec_l2')\n",
    "        self._dec3 = Layer.Conv2DTranspose(3, kernel_size=(4, 4), strides=(2, 2), name='dec_l3')\n",
    "\n",
    "    def call(self, inputs, training=None, mask=None):\n",
    "        h = self._dec1(inputs)\n",
    "        h = self._residual_stack(h)\n",
    "        h = tf.nn.relu(self._dec2(h))\n",
    "        reconstruction = self._dec3(h)\n",
    "        return reconstruction"
   ],
   "metadata": {
    "collapsed": false,
    "ExecuteTime": {
     "end_time": "2023-07-14T19:34:00.006613Z",
     "start_time": "2023-07-14T19:34:00.003555Z"
    }
   }
  },
  {
   "cell_type": "code",
   "execution_count": 20,
   "outputs": [],
   "source": [
    "class VQVAEModel(Model):\n",
    "    def __init__(self, encoder, decoder, vqvae, pre_vq_conv1,\n",
    "                 data_variance, name=None):\n",
    "        super(VQVAEModel, self).__init__(name=name)\n",
    "        pass\n",
    "\n",
    "    def call(self, inputs, training=None, mask=None):\n",
    "        pass"
   ],
   "metadata": {
    "collapsed": false,
    "ExecuteTime": {
     "end_time": "2023-07-14T19:39:18.083632Z",
     "start_time": "2023-07-14T19:39:18.080298Z"
    }
   }
  },
  {
   "cell_type": "code",
   "execution_count": 17,
   "outputs": [
    {
     "data": {
      "text/plain": "TensorShape([1, 128, 128, 3])"
     },
     "execution_count": 17,
     "metadata": {},
     "output_type": "execute_result"
    }
   ],
   "source": [
    "sample = tf.ones([1, 128, 128, 3])\n",
    "sample.shape"
   ],
   "metadata": {
    "collapsed": false,
    "ExecuteTime": {
     "end_time": "2023-07-14T19:34:00.602681Z",
     "start_time": "2023-07-14T19:34:00.592905Z"
    }
   }
  },
  {
   "cell_type": "markdown",
   "source": [
    "Test compilation"
   ],
   "metadata": {
    "collapsed": false
   }
  },
  {
   "cell_type": "code",
   "execution_count": 18,
   "outputs": [
    {
     "data": {
      "text/plain": "TensorShape([1, 28, 28, 128])"
     },
     "execution_count": 18,
     "metadata": {},
     "output_type": "execute_result"
    }
   ],
   "source": [
    "encoder_test = Encoder(num_hiddens=128, num_residual_layers=32, num_residual_hiddens=2)\n",
    "encoder_test(sample).shape"
   ],
   "metadata": {
    "collapsed": false,
    "ExecuteTime": {
     "end_time": "2023-07-14T19:34:01.520629Z",
     "start_time": "2023-07-14T19:34:01.320029Z"
    }
   }
  },
  {
   "cell_type": "markdown",
   "source": [
    "Test compilation"
   ],
   "metadata": {
    "collapsed": false
   }
  },
  {
   "cell_type": "code",
   "execution_count": 19,
   "outputs": [
    {
     "data": {
      "text/plain": "TensorShape([1, 110, 110, 3])"
     },
     "execution_count": 19,
     "metadata": {},
     "output_type": "execute_result"
    }
   ],
   "source": [
    "decoder_test = Decoder(num_hiddens=128, num_residual_layers=32, num_residual_hiddens=2)\n",
    "decoder_test(encoder_test(sample)).shape"
   ],
   "metadata": {
    "collapsed": false,
    "ExecuteTime": {
     "end_time": "2023-07-14T19:34:02.870775Z",
     "start_time": "2023-07-14T19:34:02.374065Z"
    }
   }
  },
  {
   "cell_type": "code",
   "execution_count": null,
   "outputs": [],
   "source": [],
   "metadata": {
    "collapsed": false
   }
  }
 ],
 "metadata": {
  "kernelspec": {
   "display_name": "Python 3",
   "language": "python",
   "name": "python3"
  },
  "language_info": {
   "codemirror_mode": {
    "name": "ipython",
    "version": 2
   },
   "file_extension": ".py",
   "mimetype": "text/x-python",
   "name": "python",
   "nbconvert_exporter": "python",
   "pygments_lexer": "ipython2",
   "version": "2.7.6"
  }
 },
 "nbformat": 4,
 "nbformat_minor": 0
}
