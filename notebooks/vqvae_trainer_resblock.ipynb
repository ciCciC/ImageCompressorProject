{
 "cells": [
  {
   "cell_type": "markdown",
   "source": [
    "# VQVAE with Residual Stack"
   ],
   "metadata": {
    "collapsed": false
   }
  },
  {
   "cell_type": "code",
   "execution_count": 1,
   "metadata": {
    "collapsed": true,
    "ExecuteTime": {
     "end_time": "2023-11-04T21:24:29.334177Z",
     "start_time": "2023-11-04T21:24:25.413692200Z"
    }
   },
   "outputs": [],
   "source": [
    "import os\n",
    "\n",
    "from keras.datasets import cifar10\n",
    "from keras.optimizers import Adam\n",
    "from keras.metrics import MAE\n",
    "from keras.models import load_model\n",
    "import numpy as np\n",
    "import matplotlib.pyplot as plt\n",
    "import tensorflow as tf\n",
    "import pandas as pd\n",
    "import datetime"
   ]
  },
  {
   "cell_type": "code",
   "execution_count": 2,
   "outputs": [
    {
     "data": {
      "text/plain": "[PhysicalDevice(name='/physical_device:CPU:0', device_type='CPU'),\n PhysicalDevice(name='/physical_device:GPU:0', device_type='GPU')]"
     },
     "execution_count": 2,
     "metadata": {},
     "output_type": "execute_result"
    }
   ],
   "source": [
    "tf.config.get_visible_devices()"
   ],
   "metadata": {
    "collapsed": false,
    "ExecuteTime": {
     "end_time": "2023-11-04T21:24:31.262647300Z",
     "start_time": "2023-11-04T21:24:31.162415200Z"
    }
   }
  },
  {
   "cell_type": "code",
   "execution_count": 9,
   "outputs": [],
   "source": [
    "(x_train, _), (x_test, _) = cifar10.load_data()\n",
    "\n",
    "# x_train = np.expand_dims(x_train, -1)\n",
    "# x_test = np.expand_dims(x_test, -1)\n",
    "x_train_scaled = (x_train / 255.0) - 0.5\n",
    "x_test_scaled = (x_test / 255.0) - 0.5"
   ],
   "metadata": {
    "collapsed": false,
    "ExecuteTime": {
     "end_time": "2023-11-04T21:24:38.280187400Z",
     "start_time": "2023-11-04T21:24:36.101121300Z"
    }
   }
  },
  {
   "cell_type": "markdown",
   "source": [
    "Define the parameters"
   ],
   "metadata": {
    "collapsed": false
   }
  },
  {
   "cell_type": "code",
   "execution_count": 10,
   "outputs": [],
   "source": [
    "input_shape = x_train.shape[1:]\n",
    "num_hiddens = 128\n",
    "num_residual_layers = 4\n",
    "num_residual_hiddens = 32\n",
    "data_variance = np.var(x_train / 255.0)\n",
    "embedding_dim = 15\n",
    "num_embeddings = 256  #512\n",
    "learning_rate = 3e-4"
   ],
   "metadata": {
    "collapsed": false,
    "ExecuteTime": {
     "end_time": "2023-11-04T21:25:05.052940200Z",
     "start_time": "2023-11-04T21:25:03.311171900Z"
    }
   }
  },
  {
   "cell_type": "markdown",
   "source": [
    "Initialize a VQVAETrainer"
   ],
   "metadata": {
    "collapsed": false
   }
  },
  {
   "cell_type": "code",
   "execution_count": 12,
   "outputs": [],
   "source": [
    "from app.networks.vqvae import VQVAETrainer\n",
    "\n",
    "vqvae_trainer = VQVAETrainer(\n",
    "    input_shape=input_shape,\n",
    "    num_hiddens=num_hiddens,\n",
    "    num_residual_layers=num_residual_layers,\n",
    "    num_residual_hiddens=num_residual_hiddens,\n",
    "    train_variance=data_variance,\n",
    "    latent_dim=embedding_dim,\n",
    "    num_embeddings=num_embeddings,\n",
    "    name='VQVAETrainer'\n",
    ")"
   ],
   "metadata": {
    "collapsed": false,
    "ExecuteTime": {
     "end_time": "2023-11-04T21:25:19.068755700Z",
     "start_time": "2023-11-04T21:25:17.194367700Z"
    }
   }
  },
  {
   "cell_type": "code",
   "execution_count": 13,
   "outputs": [
    {
     "name": "stdout",
     "output_type": "stream",
     "text": [
      "Model: \"vq_vae\"\n",
      "_________________________________________________________________\n",
      " Layer (type)                Output Shape              Param #   \n",
      "=================================================================\n",
      " input_1 (InputLayer)        [(None, 32, 32, 3)]       0         \n",
      "                                                                 \n",
      " Encoder (Encoder)           (None, 8, 8, 15)          449359    \n",
      "                                                                 \n",
      " vector_quantizer (VectorQua  (None, 8, 8, 15)         3840      \n",
      " ntizer)                                                         \n",
      "                                                                 \n",
      " Decoder (Decoder)           (None, 32, 32, 3)         316611    \n",
      "                                                                 \n",
      "=================================================================\n",
      "Total params: 769,810\n",
      "Trainable params: 769,042\n",
      "Non-trainable params: 768\n",
      "_________________________________________________________________\n"
     ]
    }
   ],
   "source": [
    "vqvae_trainer.vqvae.summary()"
   ],
   "metadata": {
    "collapsed": false,
    "ExecuteTime": {
     "end_time": "2023-11-04T21:25:20.014548900Z",
     "start_time": "2023-11-04T21:25:19.897554Z"
    }
   }
  },
  {
   "cell_type": "markdown",
   "source": [
    "Compile the network"
   ],
   "metadata": {
    "collapsed": false
   }
  },
  {
   "cell_type": "code",
   "execution_count": 14,
   "outputs": [],
   "source": [
    "from pathlib import Path\n",
    "\n",
    "ROOT = Path(os.getcwd()).parent\n",
    "DIR_FIT = os.path.join(ROOT, '.logs', 'fit')"
   ],
   "metadata": {
    "collapsed": false,
    "ExecuteTime": {
     "end_time": "2023-11-04T21:25:23.705770100Z",
     "start_time": "2023-11-04T21:25:23.681635900Z"
    }
   }
  },
  {
   "cell_type": "code",
   "execution_count": 15,
   "outputs": [],
   "source": [
    "log_dir = os.path.join(DIR_FIT, datetime.datetime.now().strftime(\"%Y%m%d-%H%M%S\"))\n",
    "tensorboard_callback = tf.keras.callbacks.TensorBoard(log_dir=log_dir, histogram_freq=1)"
   ],
   "metadata": {
    "collapsed": false,
    "ExecuteTime": {
     "end_time": "2023-11-04T21:25:24.284700500Z",
     "start_time": "2023-11-04T21:25:24.252846Z"
    }
   }
  },
  {
   "cell_type": "markdown",
   "source": [
    "Tensorboard"
   ],
   "metadata": {
    "collapsed": false
   }
  },
  {
   "cell_type": "code",
   "execution_count": 16,
   "outputs": [],
   "source": [
    "# code block: %tensorboard --logdir .logs/fit\n",
    "# cmd: tensorboard --logdir .logs/fit"
   ],
   "metadata": {
    "collapsed": false,
    "ExecuteTime": {
     "end_time": "2023-11-04T21:25:25.588812900Z",
     "start_time": "2023-11-04T21:25:25.560580400Z"
    }
   }
  },
  {
   "cell_type": "code",
   "execution_count": 17,
   "outputs": [],
   "source": [
    "vqvae_trainer.compile(optimizer=Adam(learning_rate=learning_rate))"
   ],
   "metadata": {
    "collapsed": false,
    "ExecuteTime": {
     "end_time": "2023-11-04T21:25:26.325590300Z",
     "start_time": "2023-11-04T21:25:26.263402100Z"
    }
   }
  },
  {
   "cell_type": "markdown",
   "source": [
    "Train the network"
   ],
   "metadata": {
    "collapsed": false
   }
  },
  {
   "cell_type": "code",
   "execution_count": 18,
   "outputs": [
    {
     "name": "stdout",
     "output_type": "stream",
     "text": [
      "Epoch 1/100\n",
      "391/391 [==============================] - 14s 20ms/step - loss: 69.5596 - reconstruction_loss: 0.4369 - vqvae_loss: 68.9880\n",
      "Epoch 2/100\n",
      "391/391 [==============================] - 8s 20ms/step - loss: 67.3428 - reconstruction_loss: 0.3117 - vqvae_loss: 66.9793\n",
      "Epoch 3/100\n",
      "391/391 [==============================] - 8s 19ms/step - loss: 4.0685 - reconstruction_loss: 0.3314 - vqvae_loss: 3.7683\n",
      "Epoch 4/100\n",
      "391/391 [==============================] - 8s 20ms/step - loss: 11.7445 - reconstruction_loss: 0.2981 - vqvae_loss: 11.4254\n",
      "Epoch 5/100\n",
      "391/391 [==============================] - 8s 20ms/step - loss: 8.5574 - reconstruction_loss: 0.2933 - vqvae_loss: 8.2667\n",
      "Epoch 6/100\n",
      "391/391 [==============================] - 8s 19ms/step - loss: 1.2737 - reconstruction_loss: 0.2168 - vqvae_loss: 1.0448\n",
      "Epoch 7/100\n",
      "391/391 [==============================] - 8s 19ms/step - loss: 0.6918 - reconstruction_loss: 0.1930 - vqvae_loss: 0.4963\n",
      "Epoch 8/100\n",
      "391/391 [==============================] - 8s 20ms/step - loss: 0.6008 - reconstruction_loss: 0.1839 - vqvae_loss: 0.4151\n",
      "Epoch 9/100\n",
      "391/391 [==============================] - 8s 20ms/step - loss: 0.4969 - reconstruction_loss: 0.1763 - vqvae_loss: 0.3194\n",
      "Epoch 10/100\n",
      "391/391 [==============================] - 8s 20ms/step - loss: 0.4324 - reconstruction_loss: 0.1675 - vqvae_loss: 0.2630\n",
      "Epoch 11/100\n",
      "391/391 [==============================] - 8s 20ms/step - loss: 0.3684 - reconstruction_loss: 0.1575 - vqvae_loss: 0.2086\n",
      "Epoch 12/100\n",
      "391/391 [==============================] - 8s 20ms/step - loss: 0.3376 - reconstruction_loss: 0.1476 - vqvae_loss: 0.1876\n",
      "Epoch 13/100\n",
      "391/391 [==============================] - 8s 19ms/step - loss: 0.3163 - reconstruction_loss: 0.1385 - vqvae_loss: 0.1760\n",
      "Epoch 14/100\n",
      "391/391 [==============================] - 8s 20ms/step - loss: 0.3012 - reconstruction_loss: 0.1313 - vqvae_loss: 0.1682\n",
      "Epoch 15/100\n",
      "391/391 [==============================] - 8s 20ms/step - loss: 0.2908 - reconstruction_loss: 0.1255 - vqvae_loss: 0.1637\n",
      "Epoch 16/100\n",
      "391/391 [==============================] - 8s 20ms/step - loss: 0.2968 - reconstruction_loss: 0.1214 - vqvae_loss: 0.1736\n",
      "Epoch 17/100\n",
      "391/391 [==============================] - 8s 20ms/step - loss: 0.2857 - reconstruction_loss: 0.1161 - vqvae_loss: 0.1692\n",
      "Epoch 18/100\n",
      "391/391 [==============================] - 8s 20ms/step - loss: 0.2902 - reconstruction_loss: 0.1127 - vqvae_loss: 0.1772\n",
      "Epoch 19/100\n",
      "391/391 [==============================] - 8s 19ms/step - loss: 0.2911 - reconstruction_loss: 0.1096 - vqvae_loss: 0.1807\n",
      "Epoch 20/100\n",
      "391/391 [==============================] - 8s 19ms/step - loss: 0.2872 - reconstruction_loss: 0.1066 - vqvae_loss: 0.1795\n",
      "Epoch 21/100\n",
      "391/391 [==============================] - 9s 24ms/step - loss: 0.2885 - reconstruction_loss: 0.1043 - vqvae_loss: 0.1836\n",
      "Epoch 22/100\n",
      "391/391 [==============================] - 8s 20ms/step - loss: 0.2814 - reconstruction_loss: 0.1021 - vqvae_loss: 0.1793\n",
      "Epoch 23/100\n",
      "391/391 [==============================] - 8s 20ms/step - loss: 0.2797 - reconstruction_loss: 0.1002 - vqvae_loss: 0.1794\n",
      "Epoch 24/100\n",
      "391/391 [==============================] - 7s 19ms/step - loss: 0.2801 - reconstruction_loss: 0.0988 - vqvae_loss: 0.1813\n",
      "Epoch 25/100\n",
      "391/391 [==============================] - 7s 19ms/step - loss: 0.2790 - reconstruction_loss: 0.0988 - vqvae_loss: 0.1809\n",
      "Epoch 26/100\n",
      "391/391 [==============================] - 7s 18ms/step - loss: 0.2699 - reconstruction_loss: 0.0979 - vqvae_loss: 0.1715\n",
      "Epoch 27/100\n",
      "391/391 [==============================] - 7s 18ms/step - loss: 0.2735 - reconstruction_loss: 0.0964 - vqvae_loss: 0.1772\n",
      "Epoch 28/100\n",
      "391/391 [==============================] - 7s 18ms/step - loss: 0.2785 - reconstruction_loss: 0.0950 - vqvae_loss: 0.1829\n",
      "Epoch 29/100\n",
      "391/391 [==============================] - 7s 18ms/step - loss: 0.2758 - reconstruction_loss: 0.0949 - vqvae_loss: 0.1808\n",
      "Epoch 30/100\n",
      "391/391 [==============================] - 7s 18ms/step - loss: 0.2743 - reconstruction_loss: 0.0937 - vqvae_loss: 0.1809\n",
      "Epoch 31/100\n",
      "391/391 [==============================] - 7s 18ms/step - loss: 0.2771 - reconstruction_loss: 0.0931 - vqvae_loss: 0.1840\n",
      "Epoch 32/100\n",
      "391/391 [==============================] - 7s 18ms/step - loss: 0.2732 - reconstruction_loss: 0.0921 - vqvae_loss: 0.1811\n",
      "Epoch 33/100\n",
      "391/391 [==============================] - 7s 18ms/step - loss: 0.2769 - reconstruction_loss: 0.0921 - vqvae_loss: 0.1850\n",
      "Epoch 34/100\n",
      "391/391 [==============================] - 7s 19ms/step - loss: 0.2744 - reconstruction_loss: 0.0912 - vqvae_loss: 0.1834\n",
      "Epoch 35/100\n",
      "391/391 [==============================] - 7s 18ms/step - loss: 0.2765 - reconstruction_loss: 0.0907 - vqvae_loss: 0.1856\n",
      "Epoch 36/100\n",
      "391/391 [==============================] - 7s 18ms/step - loss: 0.2761 - reconstruction_loss: 0.0903 - vqvae_loss: 0.1861\n",
      "Epoch 37/100\n",
      "391/391 [==============================] - 7s 19ms/step - loss: 0.2781 - reconstruction_loss: 0.0896 - vqvae_loss: 0.1882\n",
      "Epoch 38/100\n",
      "391/391 [==============================] - 7s 18ms/step - loss: 0.2800 - reconstruction_loss: 0.0891 - vqvae_loss: 0.1909\n",
      "Epoch 39/100\n",
      "391/391 [==============================] - 7s 19ms/step - loss: 0.2781 - reconstruction_loss: 0.0890 - vqvae_loss: 0.1888\n",
      "Epoch 40/100\n",
      "391/391 [==============================] - 7s 19ms/step - loss: 0.2804 - reconstruction_loss: 0.0887 - vqvae_loss: 0.1916\n",
      "Epoch 41/100\n",
      "391/391 [==============================] - 7s 17ms/step - loss: 0.2796 - reconstruction_loss: 0.0877 - vqvae_loss: 0.1919\n",
      "Epoch 42/100\n",
      "391/391 [==============================] - 8s 20ms/step - loss: 0.2809 - reconstruction_loss: 0.0873 - vqvae_loss: 0.1938\n",
      "Epoch 43/100\n",
      "391/391 [==============================] - 7s 18ms/step - loss: 0.2845 - reconstruction_loss: 0.0870 - vqvae_loss: 0.1973\n",
      "Epoch 44/100\n",
      "391/391 [==============================] - 7s 18ms/step - loss: 0.2842 - reconstruction_loss: 0.0869 - vqvae_loss: 0.1978\n",
      "Epoch 45/100\n",
      "391/391 [==============================] - 7s 19ms/step - loss: 0.2867 - reconstruction_loss: 0.0866 - vqvae_loss: 0.2000\n",
      "Epoch 46/100\n",
      "391/391 [==============================] - 7s 19ms/step - loss: 0.2887 - reconstruction_loss: 0.0858 - vqvae_loss: 0.2030\n",
      "Epoch 47/100\n",
      "391/391 [==============================] - 7s 18ms/step - loss: 0.2882 - reconstruction_loss: 0.0856 - vqvae_loss: 0.2028\n",
      "Epoch 48/100\n",
      "391/391 [==============================] - 7s 18ms/step - loss: 0.2914 - reconstruction_loss: 0.0857 - vqvae_loss: 0.2054\n",
      "Epoch 49/100\n",
      "391/391 [==============================] - 7s 18ms/step - loss: 0.2938 - reconstruction_loss: 0.0854 - vqvae_loss: 0.2080\n",
      "Epoch 50/100\n",
      "391/391 [==============================] - 7s 18ms/step - loss: 0.2928 - reconstruction_loss: 0.0848 - vqvae_loss: 0.2080\n",
      "Epoch 51/100\n",
      "391/391 [==============================] - 7s 18ms/step - loss: 0.2933 - reconstruction_loss: 0.0846 - vqvae_loss: 0.2088\n",
      "Epoch 52/100\n",
      "391/391 [==============================] - 7s 18ms/step - loss: 0.2927 - reconstruction_loss: 0.0844 - vqvae_loss: 0.2088\n",
      "Epoch 53/100\n",
      "391/391 [==============================] - 7s 18ms/step - loss: 0.2944 - reconstruction_loss: 0.0843 - vqvae_loss: 0.2102\n",
      "Epoch 54/100\n",
      "391/391 [==============================] - 7s 18ms/step - loss: 0.2951 - reconstruction_loss: 0.0846 - vqvae_loss: 0.2110\n",
      "Epoch 55/100\n",
      "391/391 [==============================] - 7s 18ms/step - loss: 0.2940 - reconstruction_loss: 0.0838 - vqvae_loss: 0.2099\n",
      "Epoch 56/100\n",
      "391/391 [==============================] - 7s 18ms/step - loss: 0.2954 - reconstruction_loss: 0.0837 - vqvae_loss: 0.2122\n",
      "Epoch 57/100\n",
      "391/391 [==============================] - 7s 18ms/step - loss: 0.2977 - reconstruction_loss: 0.0834 - vqvae_loss: 0.2146\n",
      "Epoch 58/100\n",
      "391/391 [==============================] - 7s 18ms/step - loss: 0.2960 - reconstruction_loss: 0.0830 - vqvae_loss: 0.2131\n",
      "Epoch 59/100\n",
      "391/391 [==============================] - 7s 18ms/step - loss: 0.2966 - reconstruction_loss: 0.0829 - vqvae_loss: 0.2141\n",
      "Epoch 60/100\n",
      "391/391 [==============================] - 7s 18ms/step - loss: 0.3021 - reconstruction_loss: 0.0828 - vqvae_loss: 0.2189\n",
      "Epoch 61/100\n",
      "391/391 [==============================] - 7s 18ms/step - loss: 0.2993 - reconstruction_loss: 0.0826 - vqvae_loss: 0.2166\n",
      "Epoch 62/100\n",
      "391/391 [==============================] - 7s 18ms/step - loss: 0.3041 - reconstruction_loss: 0.0827 - vqvae_loss: 0.2213\n",
      "Epoch 63/100\n",
      "391/391 [==============================] - 7s 19ms/step - loss: 0.3001 - reconstruction_loss: 0.0827 - vqvae_loss: 0.2177\n",
      "Epoch 64/100\n",
      "391/391 [==============================] - 7s 18ms/step - loss: 0.2990 - reconstruction_loss: 0.0826 - vqvae_loss: 0.2164\n",
      "Epoch 65/100\n",
      "391/391 [==============================] - 7s 18ms/step - loss: 0.2984 - reconstruction_loss: 0.0823 - vqvae_loss: 0.2164\n",
      "Epoch 66/100\n",
      "391/391 [==============================] - 7s 18ms/step - loss: 0.2984 - reconstruction_loss: 0.0824 - vqvae_loss: 0.2162\n",
      "Epoch 67/100\n",
      "391/391 [==============================] - 7s 18ms/step - loss: 0.2989 - reconstruction_loss: 0.0820 - vqvae_loss: 0.2167\n",
      "Epoch 68/100\n",
      "391/391 [==============================] - 7s 18ms/step - loss: 0.3097 - reconstruction_loss: 0.0819 - vqvae_loss: 0.2270\n",
      "Epoch 69/100\n",
      "391/391 [==============================] - 7s 18ms/step - loss: 0.2995 - reconstruction_loss: 0.0815 - vqvae_loss: 0.2177\n",
      "Epoch 70/100\n",
      "391/391 [==============================] - 7s 18ms/step - loss: 0.2995 - reconstruction_loss: 0.0815 - vqvae_loss: 0.2179\n",
      "Epoch 71/100\n",
      "391/391 [==============================] - 7s 18ms/step - loss: 0.2979 - reconstruction_loss: 0.0817 - vqvae_loss: 0.2156\n",
      "Epoch 72/100\n",
      "391/391 [==============================] - 7s 18ms/step - loss: 0.3012 - reconstruction_loss: 0.0814 - vqvae_loss: 0.2197\n",
      "Epoch 73/100\n",
      "391/391 [==============================] - 7s 18ms/step - loss: 0.3003 - reconstruction_loss: 0.0815 - vqvae_loss: 0.2192\n",
      "Epoch 74/100\n",
      "391/391 [==============================] - 7s 18ms/step - loss: 0.2966 - reconstruction_loss: 0.0813 - vqvae_loss: 0.2155\n",
      "Epoch 75/100\n",
      "391/391 [==============================] - 7s 18ms/step - loss: 0.2966 - reconstruction_loss: 0.0814 - vqvae_loss: 0.2159\n",
      "Epoch 76/100\n",
      "391/391 [==============================] - 7s 18ms/step - loss: 0.2977 - reconstruction_loss: 0.0807 - vqvae_loss: 0.2168\n",
      "Epoch 77/100\n",
      "391/391 [==============================] - 7s 18ms/step - loss: 0.2988 - reconstruction_loss: 0.0805 - vqvae_loss: 0.2182\n",
      "Epoch 78/100\n",
      "391/391 [==============================] - 7s 18ms/step - loss: 0.2982 - reconstruction_loss: 0.0804 - vqvae_loss: 0.2178\n",
      "Epoch 79/100\n",
      "391/391 [==============================] - 7s 18ms/step - loss: 0.2965 - reconstruction_loss: 0.0806 - vqvae_loss: 0.2164\n",
      "Epoch 80/100\n",
      "391/391 [==============================] - 7s 19ms/step - loss: 0.2962 - reconstruction_loss: 0.0806 - vqvae_loss: 0.2159\n",
      "Epoch 81/100\n",
      "391/391 [==============================] - 7s 18ms/step - loss: 0.2980 - reconstruction_loss: 0.0803 - vqvae_loss: 0.2176\n",
      "Epoch 82/100\n",
      "391/391 [==============================] - 7s 19ms/step - loss: 0.2983 - reconstruction_loss: 0.0806 - vqvae_loss: 0.2178\n",
      "Epoch 83/100\n",
      "391/391 [==============================] - 7s 19ms/step - loss: 0.2981 - reconstruction_loss: 0.0806 - vqvae_loss: 0.2173\n",
      "Epoch 84/100\n",
      "391/391 [==============================] - 8s 20ms/step - loss: 0.2982 - reconstruction_loss: 0.0803 - vqvae_loss: 0.2181\n",
      "Epoch 85/100\n",
      "391/391 [==============================] - 7s 19ms/step - loss: 0.2991 - reconstruction_loss: 0.0802 - vqvae_loss: 0.2191\n",
      "Epoch 86/100\n",
      "391/391 [==============================] - 7s 18ms/step - loss: 0.2963 - reconstruction_loss: 0.0801 - vqvae_loss: 0.2163\n",
      "Epoch 87/100\n",
      "391/391 [==============================] - 7s 17ms/step - loss: 0.2977 - reconstruction_loss: 0.0796 - vqvae_loss: 0.2180\n",
      "Epoch 88/100\n",
      "391/391 [==============================] - 7s 18ms/step - loss: 0.2970 - reconstruction_loss: 0.0796 - vqvae_loss: 0.2178\n",
      "Epoch 89/100\n",
      "391/391 [==============================] - 7s 18ms/step - loss: 0.2982 - reconstruction_loss: 0.0797 - vqvae_loss: 0.2186\n",
      "Epoch 90/100\n",
      "391/391 [==============================] - 7s 17ms/step - loss: 0.2993 - reconstruction_loss: 0.0799 - vqvae_loss: 0.2187\n",
      "Epoch 91/100\n",
      "391/391 [==============================] - 7s 17ms/step - loss: 0.2980 - reconstruction_loss: 0.0797 - vqvae_loss: 0.2183\n",
      "Epoch 92/100\n",
      "391/391 [==============================] - 7s 17ms/step - loss: 0.2965 - reconstruction_loss: 0.0796 - vqvae_loss: 0.2170\n",
      "Epoch 93/100\n",
      "391/391 [==============================] - 7s 18ms/step - loss: 0.2964 - reconstruction_loss: 0.0796 - vqvae_loss: 0.2170\n",
      "Epoch 94/100\n",
      "391/391 [==============================] - 7s 18ms/step - loss: 0.2982 - reconstruction_loss: 0.0799 - vqvae_loss: 0.2187\n",
      "Epoch 95/100\n",
      "391/391 [==============================] - 7s 17ms/step - loss: 0.2964 - reconstruction_loss: 0.0793 - vqvae_loss: 0.2169\n",
      "Epoch 96/100\n",
      "391/391 [==============================] - 7s 17ms/step - loss: 0.2971 - reconstruction_loss: 0.0792 - vqvae_loss: 0.2179\n",
      "Epoch 97/100\n",
      "391/391 [==============================] - 7s 18ms/step - loss: 0.2978 - reconstruction_loss: 0.0790 - vqvae_loss: 0.2189\n",
      "Epoch 98/100\n",
      "391/391 [==============================] - 8s 20ms/step - loss: 0.2972 - reconstruction_loss: 0.0791 - vqvae_loss: 0.2183\n",
      "Epoch 99/100\n",
      "391/391 [==============================] - 7s 17ms/step - loss: 0.2975 - reconstruction_loss: 0.0788 - vqvae_loss: 0.2186\n",
      "Epoch 100/100\n",
      "391/391 [==============================] - 7s 17ms/step - loss: 0.2987 - reconstruction_loss: 0.0789 - vqvae_loss: 0.2198\n"
     ]
    }
   ],
   "source": [
    "history = vqvae_trainer.fit(x_train_scaled,\n",
    "                            epochs=100,\n",
    "                            batch_size=128,\n",
    "                            callbacks=[tensorboard_callback])"
   ],
   "metadata": {
    "collapsed": false,
    "ExecuteTime": {
     "end_time": "2023-11-04T21:37:48.310050300Z",
     "start_time": "2023-11-04T21:25:34.683441100Z"
    }
   }
  },
  {
   "cell_type": "markdown",
   "source": [
    "Plot performance of the network"
   ],
   "metadata": {
    "collapsed": false
   }
  },
  {
   "cell_type": "code",
   "execution_count": 19,
   "outputs": [
    {
     "data": {
      "text/plain": "<Figure size 640x480 with 1 Axes>",
      "image/png": "[encoded data removed]"
     },
     "metadata": {},
     "output_type": "display_data"
    }
   ],
   "source": [
    "pd.DataFrame({\n",
    "    'train_loss': history.history[\"loss\"],\n",
    "    'reconstruction_loss': history.history[\"reconstruction_loss\"],\n",
    "    'vqvae_loss': history.history[\"vqvae_loss\"]}).plot(ylabel='loss', xlabel='epoch')\n",
    "plt.ylim(0, 2);"
   ],
   "metadata": {
    "collapsed": false,
    "ExecuteTime": {
     "end_time": "2023-11-04T21:37:57.125962100Z",
     "start_time": "2023-11-04T21:37:56.887932300Z"
    }
   }
  },
  {
   "cell_type": "code",
   "execution_count": 20,
   "outputs": [],
   "source": [
    "vqvae_model = vqvae_trainer.vqvae"
   ],
   "metadata": {
    "collapsed": false,
    "ExecuteTime": {
     "end_time": "2023-11-04T21:38:05.395428400Z",
     "start_time": "2023-11-04T21:38:05.350831400Z"
    }
   }
  },
  {
   "cell_type": "code",
   "execution_count": 21,
   "outputs": [],
   "source": [
    "encoder = vqvae_model.get_layer(\"Encoder\")\n",
    "quantizer = vqvae_model.get_layer(\"vector_quantizer\")\n",
    "decoder = vqvae_model.get_layer('Decoder')"
   ],
   "metadata": {
    "collapsed": false,
    "ExecuteTime": {
     "end_time": "2023-11-04T21:38:06.125977600Z",
     "start_time": "2023-11-04T21:38:06.084057200Z"
    }
   }
  },
  {
   "cell_type": "code",
   "execution_count": 22,
   "outputs": [
    {
     "data": {
      "text/plain": "(10, 32, 32, 3)"
     },
     "execution_count": 22,
     "metadata": {},
     "output_type": "execute_result"
    }
   ],
   "source": [
    "idx = np.random.choice(len(x_test_scaled), 10)\n",
    "test_images = x_test_scaled[idx]\n",
    "test_images.shape"
   ],
   "metadata": {
    "collapsed": false,
    "ExecuteTime": {
     "end_time": "2023-11-04T21:38:06.484147200Z",
     "start_time": "2023-11-04T21:38:06.479596900Z"
    }
   }
  },
  {
   "cell_type": "code",
   "execution_count": 24,
   "outputs": [],
   "source": [
    "def get_code_indices(flattened_inputs, embeddings):\n",
    "        # Calculate L2-normalized distance between the inputs and the codes.\n",
    "        similarity = tf.matmul(flattened_inputs, embeddings)\n",
    "        distances = (\n",
    "            tf.reduce_sum(flattened_inputs ** 2, axis=1, keepdims=True)\n",
    "            + tf.reduce_sum(embeddings ** 2, axis=0)\n",
    "            - 2 * similarity\n",
    "        )\n",
    "\n",
    "        # Derive the indices for minimum distances.\n",
    "        encoding_indices = tf.argmin(distances, axis=1)\n",
    "        return encoding_indices"
   ],
   "metadata": {
    "collapsed": false,
    "ExecuteTime": {
     "end_time": "2023-11-04T21:38:08.816460600Z",
     "start_time": "2023-11-04T21:38:08.785195Z"
    }
   }
  },
  {
   "cell_type": "code",
   "execution_count": 23,
   "outputs": [
    {
     "name": "stdout",
     "output_type": "stream",
     "text": [
      "1/1 [==============================] - 1s 961ms/step\n"
     ]
    },
    {
     "data": {
      "text/plain": "(10, 8, 8, 15)"
     },
     "execution_count": 23,
     "metadata": {},
     "output_type": "execute_result"
    }
   ],
   "source": [
    "encoded_outputs = encoder.predict(test_images)\n",
    "encoded_outputs.shape"
   ],
   "metadata": {
    "collapsed": false,
    "ExecuteTime": {
     "end_time": "2023-11-04T21:38:08.179362Z",
     "start_time": "2023-11-04T21:38:07.157013700Z"
    }
   }
  },
  {
   "cell_type": "code",
   "execution_count": 25,
   "outputs": [
    {
     "data": {
      "text/plain": "((640, 15), TensorShape([15, 256]))"
     },
     "execution_count": 25,
     "metadata": {},
     "output_type": "execute_result"
    }
   ],
   "source": [
    "flat_enc_outputs = encoded_outputs.reshape(-1, encoded_outputs.shape[-1])\n",
    "flat_enc_outputs.shape, quantizer.embeddings.shape"
   ],
   "metadata": {
    "collapsed": false,
    "ExecuteTime": {
     "end_time": "2023-11-04T21:38:09.758068100Z",
     "start_time": "2023-11-04T21:38:09.728371300Z"
    }
   }
  },
  {
   "cell_type": "code",
   "execution_count": 26,
   "outputs": [],
   "source": [
    "codebook_indices = get_code_indices(flat_enc_outputs, quantizer.embeddings)"
   ],
   "metadata": {
    "collapsed": false,
    "ExecuteTime": {
     "end_time": "2023-11-04T21:38:10.386689100Z",
     "start_time": "2023-11-04T21:38:10.340134700Z"
    }
   }
  },
  {
   "cell_type": "code",
   "execution_count": 27,
   "outputs": [],
   "source": [
    "codebook_indices = codebook_indices.numpy().reshape(encoded_outputs.shape[:-1])"
   ],
   "metadata": {
    "collapsed": false,
    "ExecuteTime": {
     "end_time": "2023-11-04T21:38:10.701327400Z",
     "start_time": "2023-11-04T21:38:10.671141Z"
    }
   }
  },
  {
   "cell_type": "code",
   "execution_count": 28,
   "outputs": [
    {
     "data": {
      "text/plain": "TensorShape([10, 8, 8, 15])"
     },
     "execution_count": 28,
     "metadata": {},
     "output_type": "execute_result"
    }
   ],
   "source": [
    "quantized = quantizer(encoded_outputs)\n",
    "quantized.shape"
   ],
   "metadata": {
    "collapsed": false,
    "ExecuteTime": {
     "end_time": "2023-11-04T21:38:11.523252300Z",
     "start_time": "2023-11-04T21:38:11.468092500Z"
    }
   }
  },
  {
   "cell_type": "code",
   "execution_count": 29,
   "outputs": [
    {
     "data": {
      "text/plain": "(TensorShape([960]), 3072)"
     },
     "execution_count": 29,
     "metadata": {},
     "output_type": "execute_result"
    }
   ],
   "source": [
    "flattened = tf.reshape(quantized[0], [-1])\n",
    "flattened.shape, 32 * 32 * 3"
   ],
   "metadata": {
    "collapsed": false,
    "ExecuteTime": {
     "end_time": "2023-11-04T21:38:12.543064100Z",
     "start_time": "2023-11-04T21:38:12.471229100Z"
    }
   }
  },
  {
   "cell_type": "code",
   "execution_count": 30,
   "outputs": [
    {
     "name": "stdout",
     "output_type": "stream",
     "text": [
      "1/1 [==============================] - 0s 277ms/step\n"
     ]
    },
    {
     "data": {
      "text/plain": "(10, 32, 32, 3)"
     },
     "execution_count": 30,
     "metadata": {},
     "output_type": "execute_result"
    }
   ],
   "source": [
    "reconstructed = decoder.predict(quantized)\n",
    "reconstructed.shape"
   ],
   "metadata": {
    "collapsed": false,
    "ExecuteTime": {
     "end_time": "2023-11-04T21:38:14.015716500Z",
     "start_time": "2023-11-04T21:38:13.679581500Z"
    }
   }
  },
  {
   "cell_type": "code",
   "execution_count": 32,
   "outputs": [],
   "source": [
    "i = 8"
   ],
   "metadata": {
    "collapsed": false,
    "ExecuteTime": {
     "end_time": "2023-11-04T21:38:15.809961300Z",
     "start_time": "2023-11-04T21:38:15.781039500Z"
    }
   }
  },
  {
   "cell_type": "code",
   "execution_count": 33,
   "outputs": [
    {
     "name": "stderr",
     "output_type": "stream",
     "text": [
      "Clipping input data to the valid range for imshow with RGB data ([0..1] for floats or [0..255] for integers).\n"
     ]
    },
    {
     "data": {
      "text/plain": "<Figure size 640x480 with 2 Axes>",
      "image/png": "[encoded data removed]"
     },
     "metadata": {},
     "output_type": "display_data"
    }
   ],
   "source": [
    "plt.imshow(test_images[i])\n",
    "plt.colorbar();"
   ],
   "metadata": {
    "collapsed": false,
    "ExecuteTime": {
     "end_time": "2023-11-04T21:38:16.627044700Z",
     "start_time": "2023-11-04T21:38:16.399743Z"
    }
   }
  },
  {
   "cell_type": "code",
   "execution_count": 34,
   "outputs": [
    {
     "data": {
      "text/plain": "<Figure size 640x480 with 2 Axes>",
      "image/png": "[encoded data removed]"
     },
     "metadata": {},
     "output_type": "display_data"
    }
   ],
   "source": [
    "plt.imshow(codebook_indices[i])\n",
    "plt.colorbar();"
   ],
   "metadata": {
    "collapsed": false,
    "ExecuteTime": {
     "end_time": "2023-11-04T21:38:18.709076500Z",
     "start_time": "2023-11-04T21:38:18.496497700Z"
    }
   }
  },
  {
   "cell_type": "code",
   "execution_count": 35,
   "outputs": [
    {
     "name": "stderr",
     "output_type": "stream",
     "text": [
      "Clipping input data to the valid range for imshow with RGB data ([0..1] for floats or [0..255] for integers).\n"
     ]
    },
    {
     "data": {
      "text/plain": "<Figure size 640x480 with 2 Axes>",
      "image/png": "[encoded data removed]"
     },
     "metadata": {},
     "output_type": "display_data"
    }
   ],
   "source": [
    "plt.imshow(reconstructed[i])\n",
    "plt.colorbar();"
   ],
   "metadata": {
    "collapsed": false,
    "ExecuteTime": {
     "end_time": "2023-11-04T21:38:20.044130800Z",
     "start_time": "2023-11-04T21:38:19.839858400Z"
    }
   }
  },
  {
   "cell_type": "code",
   "execution_count": 36,
   "outputs": [
    {
     "data": {
      "text/plain": "0.068"
     },
     "execution_count": 36,
     "metadata": {},
     "output_type": "execute_result"
    }
   ],
   "source": [
    "mean_absolute_error = MAE(test_images[i].flatten(), reconstructed[i].flatten())\n",
    "mean_absolute_error = np.round(mean_absolute_error.numpy(), 3)\n",
    "mean_absolute_error"
   ],
   "metadata": {
    "collapsed": false,
    "ExecuteTime": {
     "end_time": "2023-11-04T21:38:22.239101700Z",
     "start_time": "2023-11-04T21:38:22.158254500Z"
    }
   }
  }
 ],
 "metadata": {
  "kernelspec": {
   "display_name": "Python 3",
   "language": "python",
   "name": "python3"
  },
  "language_info": {
   "codemirror_mode": {
    "name": "ipython",
    "version": 2
   },
   "file_extension": ".py",
   "mimetype": "text/x-python",
   "name": "python",
   "nbconvert_exporter": "python",
   "pygments_lexer": "ipython2",
   "version": "2.7.6"
  }
 },
 "nbformat": 4,
 "nbformat_minor": 0
}
